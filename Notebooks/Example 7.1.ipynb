{
 "cells": [
  {
   "cell_type": "code",
   "execution_count": 2,
   "metadata": {
    "collapsed": true,
    "deletable": true,
    "editable": true
   },
   "outputs": [],
   "source": [
    "from miscpy.utils.sympyhelpers import *\n",
    "init_printing()"
   ]
  },
  {
   "cell_type": "code",
   "execution_count": 3,
   "metadata": {
    "collapsed": false,
    "deletable": true,
    "editable": true
   },
   "outputs": [],
   "source": [
    "l,th,thd,thdd,mp,mq,t,TP,TQ,FPQ = symbols('l,theta,thetadot,thetaddot,m_P,m_Q,t,T_P,T_Q,F_{PQ}')\n",
    "diffmap = {th:thd,thd:thdd}\n",
    "iWb = Matrix([0,0,thd])\n",
    "bCi = rotMat(3,(th-pi/2))"
   ]
  },
  {
   "cell_type": "code",
   "execution_count": 4,
   "metadata": {
    "collapsed": true,
    "deletable": true,
    "editable": true
   },
   "outputs": [],
   "source": [
    "r_PO = Matrix([sqrt(3)*l/2,-l/2,0])\n",
    "v_PO = transportEq(r_PO,t,diffmap,iWb)\n",
    "r_QO = Matrix([sqrt(3)*l/2,l/2,0])\n",
    "v_QO = transportEq(r_QO,t,diffmap,iWb)"
   ]
  },
  {
   "cell_type": "code",
   "execution_count": 5,
   "metadata": {
    "collapsed": false,
    "deletable": true,
    "editable": true
   },
   "outputs": [
    {
     "data": {
      "image/png": "[encoded data removed]",
      "text/latex": [
       "$$\\left(l^{2} m_{P} \\dot{\\theta} + l^{2} m_{Q} \\dot{\\theta}\\right) \\mathbf{e_z}$$"
      ],
      "text/plain": [
       "⎛ 2           2       ⎞             \n",
       "⎝l ⋅m_P⋅θ̇ + l ⋅m_Q⋅θ̇⎠⋅\\mathbf{e_z}"
      ]
     },
     "execution_count": 5,
     "metadata": {},
     "output_type": "execute_result"
    }
   ],
   "source": [
    "h_O = mp*r_PO.cross(v_PO) + mq*r_QO.cross(v_QO)\n",
    "mat2vec(h_O,polarframe)"
   ]
  },
  {
   "cell_type": "code",
   "execution_count": 6,
   "metadata": {
    "collapsed": false,
    "deletable": true,
    "editable": true
   },
   "outputs": [
    {
     "data": {
      "image/png": "[encoded data removed]",
      "text/latex": [
       "$$\\left ( \\left[\\begin{matrix}0\\\\0\\\\\\frac{l}{2} \\left(- \\frac{\\sqrt{3} T_{P}}{2} + g m_{P} \\cos{\\left (\\theta \\right )}\\right) + \\frac{\\sqrt{3} l}{2} \\left(F_{PQ} + \\frac{T_{P}}{2} - g m_{P} \\sin{\\left (\\theta \\right )}\\right)\\end{matrix}\\right], \\quad \\left[\\begin{matrix}0\\\\0\\\\- \\frac{l}{2} \\left(- \\frac{\\sqrt{3} T_{Q}}{2} + g m_{Q} \\cos{\\left (\\theta \\right )}\\right) + \\frac{\\sqrt{3} l}{2} \\left(- F_{PQ} - \\frac{T_{Q}}{2} - g m_{Q} \\sin{\\left (\\theta \\right )}\\right)\\end{matrix}\\right]\\right )$$"
      ],
      "text/plain": [
       "⎛⎡                               0                                ⎤, ⎡        \n",
       "⎜⎢                                                                ⎥  ⎢        \n",
       "⎜⎢                               0                                ⎥  ⎢        \n",
       "⎜⎢                                                                ⎥  ⎢        \n",
       "⎜⎢  ⎛  √3⋅T_P               ⎞        ⎛         T_P               ⎞⎥  ⎢    ⎛  √\n",
       "⎜⎢l⋅⎜- ────── + g⋅m_P⋅cos(θ)⎟   √3⋅l⋅⎜F_{PQ} + ─── - g⋅m_P⋅sin(θ)⎟⎥  ⎢  l⋅⎜- ─\n",
       "⎜⎢  ⎝    2                  ⎠        ⎝          2                ⎠⎥  ⎢    ⎝   \n",
       "⎜⎢─────────────────────────── + ──────────────────────────────────⎥  ⎢- ──────\n",
       "⎝⎣             2                                2                 ⎦  ⎣        \n",
       "\n",
       "                         0                                 ⎤⎞\n",
       "                                                           ⎥⎟\n",
       "                         0                                 ⎥⎟\n",
       "                                                           ⎥⎟\n",
       "3⋅T_Q               ⎞        ⎛          T_Q               ⎞⎥⎟\n",
       "───── + g⋅m_Q⋅cos(θ)⎟   √3⋅l⋅⎜-F_{PQ} - ─── - g⋅m_Q⋅sin(θ)⎟⎥⎟\n",
       " 2                  ⎠        ⎝           2                ⎠⎥⎟\n",
       "───────────────────── + ───────────────────────────────────⎥⎟\n",
       "       2                                 2                 ⎦⎠"
      ]
     },
     "execution_count": 6,
     "metadata": {},
     "output_type": "execute_result"
    }
   ],
   "source": [
    "M_PO = r_PO.cross(Matrix([-sqrt(3)/2*TP,TP/2,0])+ Matrix([0,FPQ,0])+ bCi*Matrix([0,-mp*g,0]))\n",
    "M_QO = r_QO.cross(Matrix([-sqrt(3)/2*TQ,-TQ/2,0])+ Matrix([0,-FPQ,0])+ bCi*Matrix([0,-mq*g,0]))\n",
    "M_PO,M_QO"
   ]
  },
  {
   "cell_type": "code",
   "execution_count": 7,
   "metadata": {
    "collapsed": true,
    "deletable": true,
    "editable": true
   },
   "outputs": [],
   "source": [
    "eom = difftotalmat(h_O,t,diffmap) - (M_PO+M_QO)"
   ]
  },
  {
   "cell_type": "code",
   "execution_count": 8,
   "metadata": {
    "collapsed": false,
    "deletable": true,
    "editable": true
   },
   "outputs": [
    {
     "data": {
      "image/png": "[encoded data removed]",
      "text/latex": [
       "$$\\left \\{ \\ddot{\\theta} : \\frac{g}{l \\left(m_{P} + m_{Q}\\right)} \\left(m_{P} \\cos{\\left (\\theta + \\frac{\\pi}{3} \\right )} - m_{Q} \\sin{\\left (\\theta + \\frac{\\pi}{6} \\right )}\\right)\\right \\}$$"
      ],
      "text/plain": [
       "⎧      ⎛       ⎛    π⎞          ⎛    π⎞⎞⎫\n",
       "⎪    g⋅⎜m_P⋅cos⎜θ + ─⎟ - m_Q⋅sin⎜θ + ─⎟⎟⎪\n",
       "⎨      ⎝       ⎝    3⎠          ⎝    6⎠⎠⎬\n",
       "⎪θ̈: ───────────────────────────────────⎪\n",
       "⎩               l⋅(m_P + m_Q)           ⎭"
      ]
     },
     "execution_count": 8,
     "metadata": {},
     "output_type": "execute_result"
    }
   ],
   "source": [
    "solve(eom,thdd)"
   ]
  },
  {
   "cell_type": "code",
   "execution_count": 11,
   "metadata": {
    "collapsed": false,
    "deletable": true,
    "editable": true
   },
   "outputs": [
    {
     "data": {
      "image/png": "[encoded data removed]",
      "text/latex": [
       "$$\\left \\{ \\ddot{\\theta} : - \\frac{\\sqrt{3} g}{2 l} \\sin{\\left (\\theta \\right )}\\right \\}$$"
      ],
      "text/plain": [
       "⎧    -√3⋅g⋅sin(θ) ⎫\n",
       "⎨θ̈: ─────────────⎬\n",
       "⎩         2⋅l     ⎭"
      ]
     },
     "execution_count": 11,
     "metadata": {},
     "output_type": "execute_result"
    }
   ],
   "source": [
    "simplify(solve(eom.subs(mq,mp),thdd))"
   ]
  },
  {
   "cell_type": "code",
   "execution_count": null,
   "metadata": {
    "collapsed": true,
    "deletable": true,
    "editable": true
   },
   "outputs": [],
   "source": []
  }
 ],
 "metadata": {
  "kernelspec": {
   "display_name": "Python 2",
   "language": "python",
   "name": "python2"
  },
  "language_info": {
   "codemirror_mode": {
    "name": "ipython",
    "version": 2
   },
   "file_extension": ".py",
   "mimetype": "text/x-python",
   "name": "python",
   "nbconvert_exporter": "python",
   "pygments_lexer": "ipython2",
   "version": "2.7.13"
  }
 },
 "nbformat": 4,
 "nbformat_minor": 2
}
