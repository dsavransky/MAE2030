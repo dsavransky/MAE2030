{
 "cells": [
  {
   "cell_type": "markdown",
   "id": "ac180954-8d09-4867-9597-afa6f48af8f3",
   "metadata": {},
   "source": [
    "# Center of Mass and Planar Moment of Inertia of a Right Triangle"
   ]
  },
  {
   "cell_type": "code",
   "execution_count": 1,
   "id": "50655c03-78bf-4c5f-929c-552a79bcdaec",
   "metadata": {},
   "outputs": [],
   "source": [
    "from sympyhelpers.sympyhelpers import *\n",
    "from sympy import init_printing\n",
    "init_printing()"
   ]
  },
  {
   "cell_type": "markdown",
   "id": "54e1b3e8-530a-49bf-bd06-e4a331ce02a7",
   "metadata": {},
   "source": [
    "We have a right triangle of height $h$ and width $w$. We define a body-fixed frame $\\mathcal{B} = (O, \\mathbf{\\hat{b}}_1,\\mathbf{\\hat{b}}_2, \\mathbf{\\hat{b}}_3)$ such that $\\mathbf{\\hat{b}}_1$ is parallel to the base of the triangle, $\\mathbf{\\hat{b}}_2$ is parallel to the height, and $\\mathbf{\\hat{b}}_3$ is orthogonal to the surface of the triangle.  First, we fine the location of the center of mass. We will set our coordinate origin in the bottom, right-hand corner of the triangle (at the right angle) and describe the position of each mass element as: $\\mathbf r_{\\mathrm{d}{m}/O} = x \\mathbf{\\hat{b}}_1 + y \\mathbf{\\hat{b}}_2$\n"
   ]
  },
  {
   "cell_type": "code",
   "execution_count": 2,
   "id": "c6eaa285-5019-4dc1-81d2-df700bc85899",
   "metadata": {},
   "outputs": [],
   "source": [
    "m,h,w = symbols(\"m,h,w\", positive=True)\n",
    "x,y = symbols(\"x,y\", real=True)"
   ]
  },
  {
   "cell_type": "code",
   "execution_count": 3,
   "id": "13e77722-b98e-469f-8d4d-4dc1de613dcc",
   "metadata": {},
   "outputs": [
    {
     "data": {
      "image/png": "[encoded data removed]",
      "text/latex": [
       "$\\displaystyle x \\hat{\\mathbf{e}}_1 + y \\hat{\\mathbf{e}}_2$"
      ],
      "text/plain": [
       "x⋅\\hat{\\mathbf{e}}₁ + y⋅\\hat{\\mathbf{e}}₂"
      ]
     },
     "execution_count": 3,
     "metadata": {},
     "output_type": "execute_result"
    }
   ],
   "source": [
    "# position of one mass element with respect to triangle corner in B frame components:\n",
    "r_dmO = Matrix([x,y,0])\n",
    "mat2vec(r_dmO)"
   ]
  },
  {
   "cell_type": "markdown",
   "id": "805590f7-b1d9-49f6-9f66-ae210c412bc6",
   "metadata": {},
   "source": [
    "We must not integrate over the limits of the body.  $x$ goes from 0 to $w$ whereas $y$ goes from 0 to $h - \\frac{h}{w}x$. Since the $y$ limit has an  $x$ dependence, we must integrate over it first."
   ]
  },
  {
   "cell_type": "code",
   "execution_count": 4,
   "id": "100fa78f-1151-41a9-bdc4-922cfde2f683",
   "metadata": {},
   "outputs": [
    {
     "data": {
      "image/png": "[encoded data removed]",
      "text/latex": [
       "$\\displaystyle \\frac{h^{2} w \\hat{\\mathbf{e}}_2}{6} + \\frac{h w^{2} \\hat{\\mathbf{e}}_1}{6}$"
      ],
      "text/plain": [
       " 2                          2                  \n",
       "h ⋅w⋅\\hat{\\mathbf{e}}₂   h⋅w ⋅\\hat{\\mathbf{e}}₁\n",
       "────────────────────── + ──────────────────────\n",
       "          6                        6           "
      ]
     },
     "execution_count": 4,
     "metadata": {},
     "output_type": "execute_result"
    }
   ],
   "source": [
    "tmp = integrate(integrate(r_dmO,(y, 0,h - h/w*x)), (x, 0 ,w))\n",
    "mat2vec(tmp)"
   ]
  },
  {
   "cell_type": "markdown",
   "id": "f10199c4-e552-4fb5-a8a9-92aa4643ebc0",
   "metadata": {},
   "source": [
    "Finally, we need to scale this by the areal density over the mass, which in this case equals $\\frac{2}{hw}$:"
   ]
  },
  {
   "cell_type": "code",
   "execution_count": 5,
   "id": "d1d1a177-090a-4263-b802-c3059b4bb81a",
   "metadata": {},
   "outputs": [
    {
     "data": {
      "image/png": "[encoded data removed]",
      "text/latex": [
       "$\\displaystyle \\frac{h \\hat{\\mathbf{e}}_2}{3} + \\frac{w \\hat{\\mathbf{e}}_1}{3}$"
      ],
      "text/plain": [
       "h⋅\\hat{\\mathbf{e}}₂   w⋅\\hat{\\mathbf{e}}₁\n",
       "─────────────────── + ───────────────────\n",
       "         3                     3         "
      ]
     },
     "execution_count": 5,
     "metadata": {},
     "output_type": "execute_result"
    }
   ],
   "source": [
    "r_GO = 2/h/w*tmp\n",
    "mat2vec(r_GO)"
   ]
  },
  {
   "cell_type": "markdown",
   "id": "ff930e15-b48e-4c90-b116-c73abf817a5f",
   "metadata": {},
   "source": [
    "At this point, we could redefine our coordinates to be with respect to the center of mass, but it is actually easier to keep the original $x$ and $y$  definitions, as we then do not need to change our limits of integration for computing the MOI"
   ]
  },
  {
   "cell_type": "code",
   "execution_count": 6,
   "id": "8bc8c0ee-d368-4538-8588-3b02e3729d81",
   "metadata": {},
   "outputs": [
    {
     "data": {
      "image/png": "[encoded data removed]",
      "text/latex": [
       "$\\displaystyle \\left(- \\frac{h}{3} + y\\right) \\hat{\\mathbf{e}}_2 + \\left(- \\frac{w}{3} + x\\right) \\hat{\\mathbf{e}}_1$"
      ],
      "text/plain": [
       "⎛  h    ⎞                     ⎛  w    ⎞                  \n",
       "⎜- ─ + y⎟⋅\\hat{\\mathbf{e}}₂ + ⎜- ─ + x⎟⋅\\hat{\\mathbf{e}}₁\n",
       "⎝  3    ⎠                     ⎝  3    ⎠                  "
      ]
     },
     "execution_count": 6,
     "metadata": {},
     "output_type": "execute_result"
    }
   ],
   "source": [
    "# define location of mass element wrt COM:\n",
    "r_dmG = r_dmO-r_GO\n",
    "mat2vec(r_dmG)"
   ]
  },
  {
   "cell_type": "markdown",
   "id": "1ad69417-8d8a-4eea-bb23-326cc7e51bb3",
   "metadata": {},
   "source": [
    "We now need to integrate over $\\Vert \\mathbf{r}_{\\mathrm{d}m/G} \\Vert^2$\n"
   ]
  },
  {
   "cell_type": "code",
   "execution_count": 7,
   "id": "9cc225e7-d839-483f-a00c-f8ed44e864a4",
   "metadata": {},
   "outputs": [
    {
     "data": {
      "image/png": "[encoded data removed]",
      "text/latex": [
       "$\\displaystyle \\left(- \\frac{h}{3} + y\\right)^{2} + \\left(- \\frac{w}{3} + x\\right)^{2}$"
      ],
      "text/plain": [
       "         2            2\n",
       "⎛  h    ⎞    ⎛  w    ⎞ \n",
       "⎜- ─ + y⎟  + ⎜- ─ + x⎟ \n",
       "⎝  3    ⎠    ⎝  3    ⎠ "
      ]
     },
     "execution_count": 7,
     "metadata": {},
     "output_type": "execute_result"
    }
   ],
   "source": [
    "r_dmG2 = r_dmG.dot(r_dmG)\n",
    "r_dmG2"
   ]
  },
  {
   "cell_type": "code",
   "execution_count": 8,
   "id": "6b45cdbd-dc38-42c3-be64-423bd2de8026",
   "metadata": {},
   "outputs": [
    {
     "data": {
      "image/png": "[encoded data removed]",
      "text/latex": [
       "$\\displaystyle \\frac{h w \\left(h^{2} + w^{2}\\right)}{36}$"
      ],
      "text/plain": [
       "    ⎛ 2    2⎞\n",
       "h⋅w⋅⎝h  + w ⎠\n",
       "─────────────\n",
       "     36      "
      ]
     },
     "execution_count": 8,
     "metadata": {},
     "output_type": "execute_result"
    }
   ],
   "source": [
    "tmp2 = integrate(integrate(r_dmG2,(y, 0,h - h/w*x)), (x, 0 ,w))\n",
    "simplify(tmp2)"
   ]
  },
  {
   "cell_type": "markdown",
   "id": "07ab1bbb-4c25-4317-9218-99d5ec1cd53d",
   "metadata": {},
   "source": [
    "Finally, we scale this by the areal density:"
   ]
  },
  {
   "cell_type": "code",
   "execution_count": 9,
   "id": "aaf4a7bb-2c4a-4d0a-834f-fcb87c613eac",
   "metadata": {},
   "outputs": [
    {
     "data": {
      "image/png": "[encoded data removed]",
      "text/latex": [
       "$\\displaystyle \\frac{m \\left(h^{2} + w^{2}\\right)}{18}$"
      ],
      "text/plain": [
       "  ⎛ 2    2⎞\n",
       "m⋅⎝h  + w ⎠\n",
       "───────────\n",
       "    18     "
      ]
     },
     "execution_count": 9,
     "metadata": {},
     "output_type": "execute_result"
    }
   ],
   "source": [
    "I_G = simplify(m/(h*w/2)*tmp2)\n",
    "I_G"
   ]
  }
 ],
 "metadata": {
  "kernelspec": {
   "display_name": "Python 3 (ipykernel)",
   "language": "python",
   "name": "python3"
  },
  "language_info": {
   "codemirror_mode": {
    "name": "ipython",
    "version": 3
   },
   "file_extension": ".py",
   "mimetype": "text/x-python",
   "name": "python",
   "nbconvert_exporter": "python",
   "pygments_lexer": "ipython3",
   "version": "3.11.11"
  }
 },
 "nbformat": 4,
 "nbformat_minor": 5
}
