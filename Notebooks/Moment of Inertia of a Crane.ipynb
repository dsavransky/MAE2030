{
 "cells": [
  {
   "cell_type": "markdown",
   "metadata": {},
   "source": [
    "### Preamble stuff (can ignore)"
   ]
  },
  {
   "cell_type": "code",
   "execution_count": 3,
   "metadata": {
    "collapsed": false,
    "scrolled": false
   },
   "outputs": [],
   "source": [
    "from miscpy.utils.sympyhelpers import *\n",
    "init_printing()"
   ]
  },
  {
   "cell_type": "code",
   "execution_count": 4,
   "metadata": {
    "collapsed": false,
    "scrolled": false
   },
   "outputs": [],
   "source": [
    "M,h,m1,m2,th1,th2,b,l1,l2 = \\\n",
    "symbols('M,h,m_1,m_2,theta_1,theta_2,beta,l_1,l_2')"
   ]
  },
  {
   "cell_type": "markdown",
   "metadata": {},
   "source": [
    "### Model the Cab as a Cube : $\\left[\\mathbb{I}_O^\\textrm{cab}\\right]_\\mathcal{A}=$"
   ]
  },
  {
   "cell_type": "code",
   "execution_count": 5,
   "metadata": {
    "collapsed": false,
    "scrolled": false
   },
   "outputs": [
    {
     "data": {
      "image/png": "[encoded data removed]",
      "text/latex": [
       "$$\\left[\\begin{matrix}\\frac{M h^{2}}{6} & 0 & 0\\\\0 & \\frac{M h^{2}}{6} & 0\\\\0 & 0 & \\frac{M h^{2}}{6}\\end{matrix}\\right]$$"
      ],
      "text/plain": [
       "⎡   2            ⎤\n",
       "⎢M⋅h             ⎥\n",
       "⎢────   0     0  ⎥\n",
       "⎢ 6              ⎥\n",
       "⎢                ⎥\n",
       "⎢         2      ⎥\n",
       "⎢      M⋅h       ⎥\n",
       "⎢ 0    ────   0  ⎥\n",
       "⎢       6        ⎥\n",
       "⎢                ⎥\n",
       "⎢               2⎥\n",
       "⎢            M⋅h ⎥\n",
       "⎢ 0     0    ────⎥\n",
       "⎣             6  ⎦"
      ]
     },
     "execution_count": 5,
     "metadata": {},
     "output_type": "execute_result"
    }
   ],
   "source": [
    "I_O_cab = M*2/3*h**2/4*eye(3); I_O_cab"
   ]
  },
  {
   "cell_type": "markdown",
   "metadata": {},
   "source": [
    "### Model the Links as Thin Rods: \n",
    "### $\\left[\\mathbb{I}_{G_1}^{m_1}\\right]_\\mathcal{B}=$"
   ]
  },
  {
   "cell_type": "code",
   "execution_count": 6,
   "metadata": {
    "collapsed": false,
    "scrolled": false
   },
   "outputs": [
    {
     "data": {
      "image/png": "[encoded data removed]",
      "text/latex": [
       "$$\\left[\\begin{matrix}0 & 0 & 0\\\\0 & \\frac{l_{1}^{2} m_{1}}{12} & 0\\\\0 & 0 & \\frac{l_{1}^{2} m_{1}}{12}\\end{matrix}\\right]$$"
      ],
      "text/plain": [
       "⎡0    0       0   ⎤\n",
       "⎢                 ⎥\n",
       "⎢     2           ⎥\n",
       "⎢   l₁ ⋅m₁        ⎥\n",
       "⎢0  ──────    0   ⎥\n",
       "⎢     12          ⎥\n",
       "⎢                 ⎥\n",
       "⎢             2   ⎥\n",
       "⎢           l₁ ⋅m₁⎥\n",
       "⎢0    0     ──────⎥\n",
       "⎣             12  ⎦"
      ]
     },
     "execution_count": 6,
     "metadata": {},
     "output_type": "execute_result"
    }
   ],
   "source": [
    "I_G1_m1_B = m1*l1**2/12*(eye(3) - diag(1,0,0)); I_G1_m1_B"
   ]
  },
  {
   "cell_type": "markdown",
   "metadata": {},
   "source": [
    "### Rotate the MOI matrix of $m_1$ into frame $\\mathcal{A}$:\n",
    "### $\\left[\\mathbb{I}_{G_1}^{m_1}\\right]_\\mathcal{A}= {}^{\\mathcal A}{C}^\\mathcal B\\left[\\mathbb{I}_{G_1}^{m_1}\\right]_\\mathcal{B}{}^{\\mathcal B}{C}^\\mathcal A$"
   ]
  },
  {
   "cell_type": "code",
   "execution_count": 7,
   "metadata": {
    "collapsed": false,
    "scrolled": false
   },
   "outputs": [
    {
     "data": {
      "image/png": "[encoded data removed]",
      "text/latex": [
       "$$\\left[\\begin{matrix}\\cos{\\left (\\theta_{1} \\right )} & - \\sin{\\left (\\theta_{1} \\right )} & 0\\\\\\sin{\\left (\\theta_{1} \\right )} & \\cos{\\left (\\theta_{1} \\right )} & 0\\\\0 & 0 & 1\\end{matrix}\\right]$$"
      ],
      "text/plain": [
       "⎡cos(θ₁)  -sin(θ₁)  0⎤\n",
       "⎢                    ⎥\n",
       "⎢sin(θ₁)  cos(θ₁)   0⎥\n",
       "⎢                    ⎥\n",
       "⎣   0        0      1⎦"
      ]
     },
     "execution_count": 7,
     "metadata": {},
     "output_type": "execute_result"
    }
   ],
   "source": [
    "aCb = Matrix(([cos(th1),-sin(th1),0],[sin(th1),cos(th1),0],[0,0,1])); aCb"
   ]
  },
  {
   "cell_type": "code",
   "execution_count": 8,
   "metadata": {
    "collapsed": false,
    "scrolled": false
   },
   "outputs": [
    {
     "data": {
      "image/png": "[encoded data removed]",
      "text/latex": [
       "$$\\left[\\begin{matrix}\\frac{l_{1}^{2} m_{1}}{12} \\sin^{2}{\\left (\\theta_{1} \\right )} & - \\frac{l_{1}^{2} m_{1}}{12} \\sin{\\left (\\theta_{1} \\right )} \\cos{\\left (\\theta_{1} \\right )} & 0\\\\- \\frac{l_{1}^{2} m_{1}}{12} \\sin{\\left (\\theta_{1} \\right )} \\cos{\\left (\\theta_{1} \\right )} & \\frac{l_{1}^{2} m_{1}}{12} \\cos^{2}{\\left (\\theta_{1} \\right )} & 0\\\\0 & 0 & \\frac{l_{1}^{2} m_{1}}{12}\\end{matrix}\\right]$$"
      ],
      "text/plain": [
       "⎡      2       2              2                            ⎤\n",
       "⎢    l₁ ⋅m₁⋅sin (θ₁)       -l₁ ⋅m₁⋅sin(θ₁)⋅cos(θ₁)         ⎥\n",
       "⎢    ───────────────       ────────────────────────    0   ⎥\n",
       "⎢           12                        12                   ⎥\n",
       "⎢                                                          ⎥\n",
       "⎢   2                            2       2                 ⎥\n",
       "⎢-l₁ ⋅m₁⋅sin(θ₁)⋅cos(θ₁)       l₁ ⋅m₁⋅cos (θ₁)             ⎥\n",
       "⎢────────────────────────      ───────────────         0   ⎥\n",
       "⎢           12                        12                   ⎥\n",
       "⎢                                                          ⎥\n",
       "⎢                                                      2   ⎥\n",
       "⎢                                                    l₁ ⋅m₁⎥\n",
       "⎢           0                         0              ──────⎥\n",
       "⎣                                                      12  ⎦"
      ]
     },
     "execution_count": 8,
     "metadata": {},
     "output_type": "execute_result"
    }
   ],
   "source": [
    "I_G1_m1_A = aCb*I_G1_m1_B*aCb.transpose(); I_G1_m1_A"
   ]
  },
  {
   "cell_type": "markdown",
   "metadata": {},
   "source": [
    "### Apply parallel axis theorem to find MOI of $m_1$ about $O$:\n",
    "### $\\left[\\mathbb{I}_{O}^{m_1}\\right]_\\mathcal{A} =\\left[\\mathbb{I}_{G_1}^{m_1}\\right]_\\mathcal{A} + m_1(\\Vert \\mathbf{r}_{O/G_1}\\Vert^2 I - \\left[\\mathbf{r}_{O/G_1}\\right]_\\mathcal{A}\\left[\\mathbf{r}_{O/G_1}\\right]_\\mathcal{A}^T)$\n",
    "### $\\mathbf{r}_{O/G_1} = -\\frac{l_1}{2}\\mathbf{b_1}  -\\frac{h}{2}\\mathbf{a_1} $"
   ]
  },
  {
   "cell_type": "code",
   "execution_count": 9,
   "metadata": {
    "collapsed": false,
    "scrolled": false
   },
   "outputs": [
    {
     "data": {
      "image/png": "[encoded data removed]",
      "text/latex": [
       "$$\\left[\\begin{matrix}- \\frac{h}{2} - \\frac{l_{1}}{2} \\cos{\\left (\\theta_{1} \\right )}\\\\- \\frac{l_{1}}{2} \\sin{\\left (\\theta_{1} \\right )}\\\\0\\end{matrix}\\right]$$"
      ],
      "text/plain": [
       "⎡  h   l₁⋅cos(θ₁)⎤\n",
       "⎢- ─ - ──────────⎥\n",
       "⎢  2       2     ⎥\n",
       "⎢                ⎥\n",
       "⎢  -l₁⋅sin(θ₁)   ⎥\n",
       "⎢  ────────────  ⎥\n",
       "⎢       2        ⎥\n",
       "⎢                ⎥\n",
       "⎣       0        ⎦"
      ]
     },
     "execution_count": 9,
     "metadata": {},
     "output_type": "execute_result"
    }
   ],
   "source": [
    "r_O_G1 = aCb*Matrix([-l1/2,0,0]) + Matrix([-h/2,0,0]); r_O_G1"
   ]
  },
  {
   "cell_type": "code",
   "execution_count": 10,
   "metadata": {
    "collapsed": false,
    "scrolled": false
   },
   "outputs": [
    {
     "data": {
      "image/png": "[encoded data removed]",
      "text/latex": [
       "$$\\left[\\begin{matrix}\\frac{l_{1}^{2} m_{1}}{3} \\sin^{2}{\\left (\\theta_{1} \\right )} & - \\frac{l_{1} m_{1}}{12} \\left(3 h + 4 l_{1} \\cos{\\left (\\theta_{1} \\right )}\\right) \\sin{\\left (\\theta_{1} \\right )} & 0\\\\- \\frac{l_{1} m_{1}}{12} \\left(3 h + 4 l_{1} \\cos{\\left (\\theta_{1} \\right )}\\right) \\sin{\\left (\\theta_{1} \\right )} & \\frac{m_{1}}{12} \\left(l_{1}^{2} \\cos^{2}{\\left (\\theta_{1} \\right )} + 3 \\left(h + l_{1} \\cos{\\left (\\theta_{1} \\right )}\\right)^{2}\\right) & 0\\\\0 & 0 & \\frac{m_{1}}{12} \\left(3 h^{2} + 6 h l_{1} \\cos{\\left (\\theta_{1} \\right )} + 4 l_{1}^{2}\\right)\\end{matrix}\\right]$$"
      ],
      "text/plain": [
       "⎡            2       2                                                        \n",
       "⎢          l₁ ⋅m₁⋅sin (θ₁)              -l₁⋅m₁⋅(3⋅h + 4⋅l₁⋅cos(θ₁))⋅sin(θ₁)   \n",
       "⎢          ───────────────              ────────────────────────────────────  \n",
       "⎢                 3                                      12                   \n",
       "⎢                                                                             \n",
       "⎢                                         ⎛  2    2                         2⎞\n",
       "⎢-l₁⋅m₁⋅(3⋅h + 4⋅l₁⋅cos(θ₁))⋅sin(θ₁)   m₁⋅⎝l₁ ⋅cos (θ₁) + 3⋅(h + l₁⋅cos(θ₁)) ⎠\n",
       "⎢────────────────────────────────────  ───────────────────────────────────────\n",
       "⎢                 12                                      12                  \n",
       "⎢                                                                             \n",
       "⎢                                                                             \n",
       "⎢                                                                             \n",
       "⎢                 0                                       0                   \n",
       "⎣                                                                             \n",
       "\n",
       "                                    ⎤\n",
       "                                    ⎥\n",
       "                  0                 ⎥\n",
       "                                    ⎥\n",
       "                                    ⎥\n",
       "                                    ⎥\n",
       "                                    ⎥\n",
       "                  0                 ⎥\n",
       "                                    ⎥\n",
       "                                    ⎥\n",
       "     ⎛   2                        2⎞⎥\n",
       "  m₁⋅⎝3⋅h  + 6⋅h⋅l₁⋅cos(θ₁) + 4⋅l₁ ⎠⎥\n",
       "  ──────────────────────────────────⎥\n",
       "                  12                ⎦"
      ]
     },
     "execution_count": 10,
     "metadata": {},
     "output_type": "execute_result"
    }
   ],
   "source": [
    "I_O_m1_A = simplify(I_G1_m1_A + m1*((r_O_G1.transpose()*r_O_G1)[0]*eye(3) - r_O_G1*r_O_G1.transpose())); I_O_m1_A"
   ]
  },
  {
   "cell_type": "markdown",
   "metadata": {},
   "source": [
    "### $\\left[\\mathbb{I}_{G_2}^{m_2}\\right]_\\mathcal{C}=$"
   ]
  },
  {
   "cell_type": "code",
   "execution_count": 11,
   "metadata": {
    "collapsed": false,
    "scrolled": false
   },
   "outputs": [
    {
     "data": {
      "image/png": "[encoded data removed]",
      "text/latex": [
       "$$\\left[\\begin{matrix}0 & 0 & 0\\\\0 & \\frac{l_{2}^{2} m_{2}}{12} & 0\\\\0 & 0 & \\frac{l_{2}^{2} m_{2}}{12}\\end{matrix}\\right]$$"
      ],
      "text/plain": [
       "⎡0    0       0   ⎤\n",
       "⎢                 ⎥\n",
       "⎢     2           ⎥\n",
       "⎢   l₂ ⋅m₂        ⎥\n",
       "⎢0  ──────    0   ⎥\n",
       "⎢     12          ⎥\n",
       "⎢                 ⎥\n",
       "⎢             2   ⎥\n",
       "⎢           l₂ ⋅m₂⎥\n",
       "⎢0    0     ──────⎥\n",
       "⎣             12  ⎦"
      ]
     },
     "execution_count": 11,
     "metadata": {},
     "output_type": "execute_result"
    }
   ],
   "source": [
    "I_G2_m2_C = m2*l2**2/12*(eye(3) - diag(1,0,0)); I_G2_m2_C"
   ]
  },
  {
   "cell_type": "markdown",
   "metadata": {},
   "source": [
    "### Rotate the MOI matrix of $m_2$ into frame $\\mathcal{A}$:\n",
    "### ${}^{\\mathcal A}{C}^\\mathcal C = {}^{\\mathcal A}{C}^\\mathcal B {}^{\\mathcal B}{C}^\\mathcal c$\n",
    "### $\\left[\\mathbb{I}_{G_2}^{m_2}\\right]_\\mathcal{A}= {}^{\\mathcal A}{C}^\\mathcal C\\left[\\mathbb{I}_{G_2}^{m_2}\\right]_\\mathcal{C}{}^{\\mathcal C}{C}^\\mathcal A$"
   ]
  },
  {
   "cell_type": "code",
   "execution_count": 12,
   "metadata": {
    "collapsed": false,
    "scrolled": false
   },
   "outputs": [
    {
     "data": {
      "image/png": "[encoded data removed]",
      "text/latex": [
       "$$\\left[\\begin{matrix}\\cos{\\left (\\beta \\right )} & \\sin{\\left (\\beta \\right )} & 0\\\\- \\sin{\\left (\\beta \\right )} & \\cos{\\left (\\beta \\right )} & 0\\\\0 & 0 & 1\\end{matrix}\\right]$$"
      ],
      "text/plain": [
       "⎡cos(β)   sin(β)  0⎤\n",
       "⎢                  ⎥\n",
       "⎢-sin(β)  cos(β)  0⎥\n",
       "⎢                  ⎥\n",
       "⎣   0       0     1⎦"
      ]
     },
     "execution_count": 12,
     "metadata": {},
     "output_type": "execute_result"
    }
   ],
   "source": [
    "bCc = Matrix(([cos(b),sin(b),0],[-sin(b),cos(b),0],[0,0,1])); bCc"
   ]
  },
  {
   "cell_type": "code",
   "execution_count": 13,
   "metadata": {
    "collapsed": false,
    "scrolled": false
   },
   "outputs": [
    {
     "data": {
      "image/png": "[encoded data removed]",
      "text/latex": [
       "$$\\left[\\begin{matrix}\\cos{\\left (\\beta - \\theta_{1} \\right )} & \\sin{\\left (\\beta - \\theta_{1} \\right )} & 0\\\\- \\sin{\\left (\\beta - \\theta_{1} \\right )} & \\cos{\\left (\\beta - \\theta_{1} \\right )} & 0\\\\0 & 0 & 1\\end{matrix}\\right]$$"
      ],
      "text/plain": [
       "⎡cos(β - θ₁)   sin(β - θ₁)  0⎤\n",
       "⎢                            ⎥\n",
       "⎢-sin(β - θ₁)  cos(β - θ₁)  0⎥\n",
       "⎢                            ⎥\n",
       "⎣     0             0       1⎦"
      ]
     },
     "execution_count": 13,
     "metadata": {},
     "output_type": "execute_result"
    }
   ],
   "source": [
    "aCc = simplify(aCb*bCc); aCc"
   ]
  },
  {
   "cell_type": "markdown",
   "metadata": {},
   "source": [
    "### Simplify by defining $\\theta_2 \\triangleq \\beta - \\theta_1$"
   ]
  },
  {
   "cell_type": "code",
   "execution_count": 14,
   "metadata": {
    "collapsed": false,
    "scrolled": false
   },
   "outputs": [
    {
     "data": {
      "image/png": "[encoded data removed]",
      "text/latex": [
       "$$\\left[\\begin{matrix}\\cos{\\left (\\theta_{2} \\right )} & \\sin{\\left (\\theta_{2} \\right )} & 0\\\\- \\sin{\\left (\\theta_{2} \\right )} & \\cos{\\left (\\theta_{2} \\right )} & 0\\\\0 & 0 & 1\\end{matrix}\\right]$$"
      ],
      "text/plain": [
       "⎡cos(θ₂)   sin(θ₂)  0⎤\n",
       "⎢                    ⎥\n",
       "⎢-sin(θ₂)  cos(θ₂)  0⎥\n",
       "⎢                    ⎥\n",
       "⎣   0         0     1⎦"
      ]
     },
     "execution_count": 14,
     "metadata": {},
     "output_type": "execute_result"
    }
   ],
   "source": [
    "aCc = aCc.subs(b-th1,th2); aCc"
   ]
  },
  {
   "cell_type": "code",
   "execution_count": 15,
   "metadata": {
    "collapsed": false,
    "scrolled": false
   },
   "outputs": [
    {
     "data": {
      "image/png": "[encoded data removed]",
      "text/latex": [
       "$$\\left[\\begin{matrix}\\frac{l_{2}^{2} m_{2}}{12} \\sin^{2}{\\left (\\theta_{2} \\right )} & \\frac{l_{2}^{2} m_{2}}{12} \\sin{\\left (\\theta_{2} \\right )} \\cos{\\left (\\theta_{2} \\right )} & 0\\\\\\frac{l_{2}^{2} m_{2}}{12} \\sin{\\left (\\theta_{2} \\right )} \\cos{\\left (\\theta_{2} \\right )} & \\frac{l_{2}^{2} m_{2}}{12} \\cos^{2}{\\left (\\theta_{2} \\right )} & 0\\\\0 & 0 & \\frac{l_{2}^{2} m_{2}}{12}\\end{matrix}\\right]$$"
      ],
      "text/plain": [
       "⎡     2       2            2                           ⎤\n",
       "⎢   l₂ ⋅m₂⋅sin (θ₂)      l₂ ⋅m₂⋅sin(θ₂)⋅cos(θ₂)        ⎥\n",
       "⎢   ───────────────      ──────────────────────    0   ⎥\n",
       "⎢          12                      12                  ⎥\n",
       "⎢                                                      ⎥\n",
       "⎢  2                          2       2                ⎥\n",
       "⎢l₂ ⋅m₂⋅sin(θ₂)⋅cos(θ₂)     l₂ ⋅m₂⋅cos (θ₂)            ⎥\n",
       "⎢──────────────────────     ───────────────        0   ⎥\n",
       "⎢          12                      12                  ⎥\n",
       "⎢                                                      ⎥\n",
       "⎢                                                  2   ⎥\n",
       "⎢                                                l₂ ⋅m₂⎥\n",
       "⎢          0                       0             ──────⎥\n",
       "⎣                                                  12  ⎦"
      ]
     },
     "execution_count": 15,
     "metadata": {},
     "output_type": "execute_result"
    }
   ],
   "source": [
    "I_G2_m2_A = aCc*I_G2_m2_C*aCc.transpose(); I_G2_m2_A"
   ]
  },
  {
   "cell_type": "markdown",
   "metadata": {},
   "source": [
    "### Apply parallel axis theorem to find MOI of $m_2$ about $O$:\n",
    "### $\\left[\\mathbb{I}_{O}^{m_2}\\right]_\\mathcal{A} =\\left[\\mathbb{I}_{G_2}^{m_2}\\right]_\\mathcal{A}+ m_2(\\Vert \\mathbf{r}_{O/G_2}\\Vert^2 I - \\left[\\mathbf{r}_{O/G_2}\\right]_\\mathcal{A}\\left[\\mathbf{r}_{O/G_2}\\right]_\\mathcal{A}^T)$\n",
    "### $\\mathbf{r}_{O/G_2} = -\\frac{l_2}{2}\\mathbf{c_1} - l_1 \\mathbf{b_1} -\\frac{h}{2}\\mathbf{a_1} $"
   ]
  },
  {
   "cell_type": "code",
   "execution_count": 16,
   "metadata": {
    "collapsed": false,
    "scrolled": false
   },
   "outputs": [
    {
     "data": {
      "image/png": "[encoded data removed]",
      "text/latex": [
       "$$\\left[\\begin{matrix}- \\frac{h}{2} - l_{1} \\cos{\\left (\\theta_{1} \\right )} - \\frac{l_{2}}{2} \\cos{\\left (\\theta_{2} \\right )}\\\\- l_{1} \\sin{\\left (\\theta_{1} \\right )} + \\frac{l_{2}}{2} \\sin{\\left (\\theta_{2} \\right )}\\\\0\\end{matrix}\\right]$$"
      ],
      "text/plain": [
       "⎡  h                l₂⋅cos(θ₂)⎤\n",
       "⎢- ─ - l₁⋅cos(θ₁) - ──────────⎥\n",
       "⎢  2                    2     ⎥\n",
       "⎢                             ⎥\n",
       "⎢                l₂⋅sin(θ₂)   ⎥\n",
       "⎢  -l₁⋅sin(θ₁) + ──────────   ⎥\n",
       "⎢                    2        ⎥\n",
       "⎢                             ⎥\n",
       "⎣              0              ⎦"
      ]
     },
     "execution_count": 16,
     "metadata": {},
     "output_type": "execute_result"
    }
   ],
   "source": [
    "r_O_G2 = aCc*Matrix([-l2/2,0,0]) + aCb*Matrix([-l1,0,0]) + Matrix([-h/2,0,0]); r_O_G2"
   ]
  },
  {
   "cell_type": "code",
   "execution_count": 17,
   "metadata": {
    "collapsed": false,
    "scrolled": false
   },
   "outputs": [
    {
     "data": {
      "image/png": "[encoded data removed]",
      "text/latex": [
       "$$\\left[\\begin{matrix}\\frac{m_{2}}{12} \\left(l_{2}^{2} \\sin^{2}{\\left (\\theta_{2} \\right )} + 3 \\left(2 l_{1} \\sin{\\left (\\theta_{1} \\right )} - l_{2} \\sin{\\left (\\theta_{2} \\right )}\\right)^{2}\\right) & \\frac{m_{2}}{12} \\left(\\frac{l_{2}^{2}}{2} \\sin{\\left (2 \\theta_{2} \\right )} - 3 \\left(2 l_{1} \\sin{\\left (\\theta_{1} \\right )} - l_{2} \\sin{\\left (\\theta_{2} \\right )}\\right) \\left(h + 2 l_{1} \\cos{\\left (\\theta_{1} \\right )} + l_{2} \\cos{\\left (\\theta_{2} \\right )}\\right)\\right) & 0\\\\\\frac{m_{2}}{12} \\left(\\frac{l_{2}^{2}}{2} \\sin{\\left (2 \\theta_{2} \\right )} - 3 \\left(2 l_{1} \\sin{\\left (\\theta_{1} \\right )} - l_{2} \\sin{\\left (\\theta_{2} \\right )}\\right) \\left(h + 2 l_{1} \\cos{\\left (\\theta_{1} \\right )} + l_{2} \\cos{\\left (\\theta_{2} \\right )}\\right)\\right) & \\frac{m_{2}}{12} \\left(l_{2}^{2} \\cos^{2}{\\left (\\theta_{2} \\right )} + 3 \\left(h + 2 l_{1} \\cos{\\left (\\theta_{1} \\right )} + l_{2} \\cos{\\left (\\theta_{2} \\right )}\\right)^{2}\\right) & 0\\\\0 & 0 & \\frac{m_{2}}{12} \\left(3 h^{2} + 12 h l_{1} \\cos{\\left (\\theta_{1} \\right )} + 6 h l_{2} \\cos{\\left (\\theta_{2} \\right )} + 12 l_{1}^{2} + 12 l_{1} l_{2} \\cos{\\left (\\theta_{1} + \\theta_{2} \\right )} + 4 l_{2}^{2}\\right)\\end{matrix}\\right]$$"
      ],
      "text/plain": [
       "⎡                                                                             \n",
       "⎢                                                                             \n",
       "⎢                   ⎛  2    2                                    2⎞           \n",
       "⎢                m₂⋅⎝l₂ ⋅sin (θ₂) + 3⋅(2⋅l₁⋅sin(θ₁) - l₂⋅sin(θ₂)) ⎠           \n",
       "⎢                ──────────────────────────────────────────────────           \n",
       "⎢                                        12                                   \n",
       "⎢                                                                             \n",
       "⎢   ⎛  2                                                                      \n",
       "⎢   ⎜l₂ ⋅sin(2⋅θ₂)                                                            \n",
       "⎢m₂⋅⎜───────────── - 3⋅(2⋅l₁⋅sin(θ₁) - l₂⋅sin(θ₂))⋅(h + 2⋅l₁⋅cos(θ₁) + l₂⋅cos(\n",
       "⎢   ⎝      2                                                                  \n",
       "⎢─────────────────────────────────────────────────────────────────────────────\n",
       "⎢                                        12                                   \n",
       "⎢                                                                             \n",
       "⎢                                                                             \n",
       "⎢                                                                             \n",
       "⎢                                        0                                    \n",
       "⎣                                                                             \n",
       "\n",
       "          ⎛  2                                                                \n",
       "          ⎜l₂ ⋅sin(2⋅θ₂)                                                      \n",
       "       m₂⋅⎜───────────── - 3⋅(2⋅l₁⋅sin(θ₁) - l₂⋅sin(θ₂))⋅(h + 2⋅l₁⋅cos(θ₁) + l\n",
       "          ⎝      2                                                            \n",
       "       ───────────────────────────────────────────────────────────────────────\n",
       "                                               12                             \n",
       "                                                                              \n",
       "    ⎞                                                                         \n",
       "    ⎟                                                                         \n",
       "θ₂))⎟                   ⎛  2    2                                        2⎞   \n",
       "    ⎠                m₂⋅⎝l₂ ⋅cos (θ₂) + 3⋅(h + 2⋅l₁⋅cos(θ₁) + l₂⋅cos(θ₂)) ⎠   \n",
       "─────                ──────────────────────────────────────────────────────   \n",
       "                                               12                             \n",
       "                                                                              \n",
       "                                                                              \n",
       "                                                                              \n",
       "                                               0                              \n",
       "                                                                              \n",
       "\n",
       "          ⎞                                                                   \n",
       "          ⎟                                                                   \n",
       "₂⋅cos(θ₂))⎟                                                                   \n",
       "          ⎠                                                                   \n",
       "───────────                                            0                      \n",
       "                                                                              \n",
       "                                                                              \n",
       "                                                                              \n",
       "                                                                              \n",
       "                                                                              \n",
       "                                                                              \n",
       "                                                       0                      \n",
       "                                                                              \n",
       "                                                                              \n",
       "                ⎛   2                                           2             \n",
       "             m₂⋅⎝3⋅h  + 12⋅h⋅l₁⋅cos(θ₁) + 6⋅h⋅l₂⋅cos(θ₂) + 12⋅l₁  + 12⋅l₁⋅l₂⋅c\n",
       "             ─────────────────────────────────────────────────────────────────\n",
       "                                                       12                     \n",
       "\n",
       "                    ⎤\n",
       "                    ⎥\n",
       "                    ⎥\n",
       "                    ⎥\n",
       "                    ⎥\n",
       "                    ⎥\n",
       "                    ⎥\n",
       "                    ⎥\n",
       "                    ⎥\n",
       "                    ⎥\n",
       "                    ⎥\n",
       "                    ⎥\n",
       "                    ⎥\n",
       "                    ⎥\n",
       "                  2⎞⎥\n",
       "os(θ₁ + θ₂) + 4⋅l₂ ⎠⎥\n",
       "────────────────────⎥\n",
       "                    ⎦"
      ]
     },
     "execution_count": 17,
     "metadata": {},
     "output_type": "execute_result"
    }
   ],
   "source": [
    "I_O_m2_A = simplify(I_G2_m2_A + m2*((r_O_G2.transpose()*r_O_G2)[0]*eye(3) - r_O_G2*r_O_G2.transpose())); I_O_m2_A"
   ]
  },
  {
   "cell_type": "markdown",
   "metadata": {},
   "source": [
    "### Total Moment of Inertia is the sum of the 3 Moment of Inertia matrices\n",
    "### $\\left[\\mathbb{I}_{O}\\right]_\\mathcal{A} =\\left[\\mathbb{I}_{O}^{m_1}\\right]_\\mathcal{A}+\\left[\\mathbb{I}_{O}^{m_2}\\right]_\\mathcal{A} + \\left[\\mathbb{I}_{O}^{\\textrm{cab}}\\right]_\\mathcal{A}$"
   ]
  },
  {
   "cell_type": "code",
   "execution_count": 18,
   "metadata": {
    "collapsed": false,
    "scrolled": false
   },
   "outputs": [
    {
     "data": {
      "image/png": "[encoded data removed]",
      "text/latex": [
       "$$\\left[\\begin{matrix}\\frac{M h^{2}}{6} + \\frac{l_{1}^{2} m_{1}}{3} \\sin^{2}{\\left (\\theta_{1} \\right )} + \\frac{m_{2}}{12} \\left(l_{2}^{2} \\sin^{2}{\\left (\\theta_{2} \\right )} + 3 \\left(2 l_{1} \\sin{\\left (\\theta_{1} \\right )} - l_{2} \\sin{\\left (\\theta_{2} \\right )}\\right)^{2}\\right) & - \\frac{l_{1} m_{1}}{12} \\left(3 h + 4 l_{1} \\cos{\\left (\\theta_{1} \\right )}\\right) \\sin{\\left (\\theta_{1} \\right )} + \\frac{m_{2}}{24} \\left(l_{2}^{2} \\sin{\\left (2 \\theta_{2} \\right )} - 6 \\left(2 l_{1} \\sin{\\left (\\theta_{1} \\right )} - l_{2} \\sin{\\left (\\theta_{2} \\right )}\\right) \\left(h + 2 l_{1} \\cos{\\left (\\theta_{1} \\right )} + l_{2} \\cos{\\left (\\theta_{2} \\right )}\\right)\\right) & 0\\\\- \\frac{l_{1} m_{1}}{12} \\left(3 h + 4 l_{1} \\cos{\\left (\\theta_{1} \\right )}\\right) \\sin{\\left (\\theta_{1} \\right )} + \\frac{m_{2}}{24} \\left(l_{2}^{2} \\sin{\\left (2 \\theta_{2} \\right )} - 6 \\left(2 l_{1} \\sin{\\left (\\theta_{1} \\right )} - l_{2} \\sin{\\left (\\theta_{2} \\right )}\\right) \\left(h + 2 l_{1} \\cos{\\left (\\theta_{1} \\right )} + l_{2} \\cos{\\left (\\theta_{2} \\right )}\\right)\\right) & \\frac{M h^{2}}{6} + \\frac{m_{1}}{12} \\left(l_{1}^{2} \\cos^{2}{\\left (\\theta_{1} \\right )} + 3 \\left(h + l_{1} \\cos{\\left (\\theta_{1} \\right )}\\right)^{2}\\right) + \\frac{m_{2}}{12} \\left(l_{2}^{2} \\cos^{2}{\\left (\\theta_{2} \\right )} + 3 \\left(h + 2 l_{1} \\cos{\\left (\\theta_{1} \\right )} + l_{2} \\cos{\\left (\\theta_{2} \\right )}\\right)^{2}\\right) & 0\\\\0 & 0 & \\frac{M h^{2}}{6} + \\frac{m_{1}}{12} \\left(3 h^{2} + 6 h l_{1} \\cos{\\left (\\theta_{1} \\right )} + 4 l_{1}^{2}\\right) + \\frac{m_{2}}{12} \\left(3 h^{2} + 12 h l_{1} \\cos{\\left (\\theta_{1} \\right )} + 6 h l_{2} \\cos{\\left (\\theta_{2} \\right )} + 12 l_{1}^{2} + 12 l_{1} l_{2} \\cos{\\left (\\theta_{1} + \\theta_{2} \\right )} + 4 l_{2}^{2}\\right)\\end{matrix}\\right]$$"
      ],
      "text/plain": [
       "⎡                          2     2       2          ⎛  2    2                 \n",
       "⎢                       M⋅h    l₁ ⋅m₁⋅sin (θ₁)   m₂⋅⎝l₂ ⋅sin (θ₂) + 3⋅(2⋅l₁⋅si\n",
       "⎢                       ──── + ─────────────── + ─────────────────────────────\n",
       "⎢                        6            3                                  12   \n",
       "⎢                                                                             \n",
       "⎢                                          ⎛  2                               \n",
       "⎢  l₁⋅m₁⋅(3⋅h + 4⋅l₁⋅cos(θ₁))⋅sin(θ₁)   m₂⋅⎝l₂ ⋅sin(2⋅θ₂) - 6⋅(2⋅l₁⋅sin(θ₁) - \n",
       "⎢- ────────────────────────────────── + ──────────────────────────────────────\n",
       "⎢                  12                                                         \n",
       "⎢                                                                             \n",
       "⎢                                                                             \n",
       "⎢                                                                             \n",
       "⎢                                                            0                \n",
       "⎣                                                                             \n",
       "\n",
       "                   2⎞                                                         \n",
       "n(θ₁) - l₂⋅sin(θ₂)) ⎠                           l₁⋅m₁⋅(3⋅h + 4⋅l₁⋅cos(θ₁))⋅sin\n",
       "─────────────────────                         - ──────────────────────────────\n",
       "                                                                12            \n",
       "                                                                              \n",
       "                                           ⎞              2      ⎛  2    2    \n",
       "l₂⋅sin(θ₂))⋅(h + 2⋅l₁⋅cos(θ₁) + l₂⋅cos(θ₂))⎠           M⋅h    m₁⋅⎝l₁ ⋅cos (θ₁)\n",
       "────────────────────────────────────────────           ──── + ────────────────\n",
       "  24                                                    6                     \n",
       "                                                                              \n",
       "                                                                              \n",
       "                                                                              \n",
       "                                                                              \n",
       "                                                                              \n",
       "\n",
       "          ⎛  2                                                                \n",
       "(θ₁)   m₂⋅⎝l₂ ⋅sin(2⋅θ₂) - 6⋅(2⋅l₁⋅sin(θ₁) - l₂⋅sin(θ₂))⋅(h + 2⋅l₁⋅cos(θ₁) + l\n",
       "──── + ───────────────────────────────────────────────────────────────────────\n",
       "                                               24                             \n",
       "                                                                              \n",
       "                     2⎞      ⎛  2    2                                        \n",
       " + 3⋅(h + l₁⋅cos(θ₁)) ⎠   m₂⋅⎝l₂ ⋅cos (θ₂) + 3⋅(h + 2⋅l₁⋅cos(θ₁) + l₂⋅cos(θ₂))\n",
       "─────────────────────── + ────────────────────────────────────────────────────\n",
       "   12                                               12                        \n",
       "                                                                              \n",
       "                                                                              \n",
       "                                                                              \n",
       "                            0                                                 \n",
       "                                                                              \n",
       "\n",
       "          ⎞                                                                   \n",
       "₂⋅cos(θ₂))⎠                                                                   \n",
       "───────────                                                                  0\n",
       "                                                                              \n",
       "                                                                              \n",
       "2⎞                                                                            \n",
       " ⎠                                                                            \n",
       "──                                                                           0\n",
       "                                                                              \n",
       "                                                                              \n",
       "                2      ⎛   2                        2⎞      ⎛   2             \n",
       "             M⋅h    m₁⋅⎝3⋅h  + 6⋅h⋅l₁⋅cos(θ₁) + 4⋅l₁ ⎠   m₂⋅⎝3⋅h  + 12⋅h⋅l₁⋅co\n",
       "             ──── + ────────────────────────────────── + ─────────────────────\n",
       "              6                     12                                        \n",
       "\n",
       "                                                                ⎤\n",
       "                                                                ⎥\n",
       "                                                                ⎥\n",
       "                                                                ⎥\n",
       "                                                                ⎥\n",
       "                                                                ⎥\n",
       "                                                                ⎥\n",
       "                                                                ⎥\n",
       "                                                                ⎥\n",
       "                                                                ⎥\n",
       "                              2                               2⎞⎥\n",
       "s(θ₁) + 6⋅h⋅l₂⋅cos(θ₂) + 12⋅l₁  + 12⋅l₁⋅l₂⋅cos(θ₁ + θ₂) + 4⋅l₂ ⎠⎥\n",
       "────────────────────────────────────────────────────────────────⎥\n",
       "                     12                                         ⎦"
      ]
     },
     "execution_count": 18,
     "metadata": {},
     "output_type": "execute_result"
    }
   ],
   "source": [
    "I_O_A = simplify(I_O_cab + I_O_m1_A + I_O_m2_A); I_O_A"
   ]
  },
  {
   "cell_type": "code",
   "execution_count": null,
   "metadata": {
    "collapsed": true
   },
   "outputs": [],
   "source": []
  }
 ],
 "metadata": {
  "kernelspec": {
   "display_name": "Python 2",
   "language": "python",
   "name": "python2"
  },
  "language_info": {
   "codemirror_mode": {
    "name": "ipython",
    "version": 2
   },
   "file_extension": ".py",
   "mimetype": "text/x-python",
   "name": "python",
   "nbconvert_exporter": "python",
   "pygments_lexer": "ipython2",
   "version": "2.7.12"
  }
 },
 "nbformat": 4,
 "nbformat_minor": 0
}
