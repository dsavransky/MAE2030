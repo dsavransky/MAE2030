{
 "cells": [
  {
   "cell_type": "code",
   "execution_count": 1,
   "metadata": {
    "collapsed": true
   },
   "outputs": [],
   "source": [
    "from miscpy.utils.sympyhelpers import *\n",
    "init_printing()"
   ]
  },
  {
   "cell_type": "code",
   "execution_count": 2,
   "metadata": {
    "collapsed": true
   },
   "outputs": [],
   "source": [
    "th,ph,psi,thd,phd,psid,thdd,phdd,psidd,rho,R = symbols('theta,phi,psi,thetadot,phidot,psidot,thetaddot,phiddot,psiddot,rho,R')"
   ]
  },
  {
   "cell_type": "markdown",
   "metadata": {},
   "source": [
    "Hemisphere COM"
   ]
  },
  {
   "cell_type": "code",
   "execution_count": 3,
   "metadata": {
    "collapsed": false
   },
   "outputs": [
    {
     "data": {
      "image/png": "[encoded data removed]",
      "text/latex": [
       "$$\\left[\\begin{matrix}\\rho \\sin{\\left (\\phi \\right )} \\cos{\\left (\\theta \\right )}\\\\\\rho \\sin{\\left (\\phi \\right )} \\sin{\\left (\\theta \\right )}\\\\\\rho \\cos{\\left (\\phi \\right )}\\end{matrix}\\right]$$"
      ],
      "text/plain": [
       "⎡ρ⋅sin(φ)⋅cos(θ)⎤\n",
       "⎢               ⎥\n",
       "⎢ρ⋅sin(φ)⋅sin(θ)⎥\n",
       "⎢               ⎥\n",
       "⎣   ρ⋅cos(φ)    ⎦"
      ]
     },
     "execution_count": 3,
     "metadata": {},
     "output_type": "execute_result"
    }
   ],
   "source": [
    "r_dm_O = Matrix([rho*cos(th)*sin(ph),rho*sin(th)*sin(ph), rho*cos(ph)]);r_dm_O"
   ]
  },
  {
   "cell_type": "code",
   "execution_count": 4,
   "metadata": {
    "collapsed": false
   },
   "outputs": [
    {
     "data": {
      "image/png": "[encoded data removed]",
      "text/latex": [
       "$$\\left[\\begin{matrix}0\\\\0\\\\\\frac{\\pi R^{4}}{4}\\end{matrix}\\right]$$"
      ],
      "text/plain": [
       "⎡ 0  ⎤\n",
       "⎢    ⎥\n",
       "⎢ 0  ⎥\n",
       "⎢    ⎥\n",
       "⎢   4⎥\n",
       "⎢π⋅R ⎥\n",
       "⎢────⎥\n",
       "⎣ 4  ⎦"
      ]
     },
     "execution_count": 4,
     "metadata": {},
     "output_type": "execute_result"
    }
   ],
   "source": [
    "integrate(integrate(integrate(r_dm_O*rho**2*sin(ph),(rho,0,R)),(th,0,2*pi)),(ph,0,pi/2))"
   ]
  },
  {
   "cell_type": "code",
   "execution_count": 5,
   "metadata": {
    "collapsed": false
   },
   "outputs": [
    {
     "data": {
      "image/png": "[encoded data removed]",
      "text/latex": [
       "$$\\frac{2 \\pi}{3} R^{3}$$"
      ],
      "text/plain": [
       "     3\n",
       "2⋅π⋅R \n",
       "──────\n",
       "  3   "
      ]
     },
     "execution_count": 5,
     "metadata": {},
     "output_type": "execute_result"
    }
   ],
   "source": [
    "integrate(rho**2*sin(ph),(rho,0,R),(th,0,2*pi),(ph,0,pi/2))"
   ]
  },
  {
   "cell_type": "markdown",
   "metadata": {
    "collapsed": true
   },
   "source": [
    "Spherical Gyropendulum"
   ]
  },
  {
   "cell_type": "code",
   "execution_count": 6,
   "metadata": {
    "collapsed": false
   },
   "outputs": [],
   "source": [
    "g,t,h,m,l,thdd,phdd,psidd = symbols('g,t,h,m,l,thetaddot,phiddot,psiddot')"
   ]
  },
  {
   "cell_type": "code",
   "execution_count": 7,
   "metadata": {
    "collapsed": false
   },
   "outputs": [
    {
     "data": {
      "image/png": "[encoded data removed]",
      "text/latex": [
       "$$\\left ( \\left[\\begin{matrix}- l^{2} m \\dot{\\theta} \\sin{\\left (\\phi \\right )}\\\\l^{2} m \\dot{\\phi}\\\\h\\end{matrix}\\right], \\quad \\left[\\begin{matrix}- \\dot{\\theta} \\sin{\\left (\\phi \\right )}\\\\\\dot{\\phi}\\\\\\dot{\\theta} \\cos{\\left (\\phi \\right )}\\end{matrix}\\right]\\right )$$"
      ],
      "text/plain": [
       "⎛⎡  2            ⎤              ⎞\n",
       "⎜⎢-l ⋅m⋅θ̇⋅sin(φ)⎥, ⎡-θ̇⋅sin(φ)⎤⎟\n",
       "⎜⎢               ⎥  ⎢          ⎥⎟\n",
       "⎜⎢     2         ⎥  ⎢    φ̇    ⎥⎟\n",
       "⎜⎢    l ⋅m⋅φ̇    ⎥  ⎢          ⎥⎟\n",
       "⎜⎢               ⎥  ⎣θ̇⋅cos(φ) ⎦⎟\n",
       "⎝⎣       h       ⎦              ⎠"
      ]
     },
     "execution_count": 7,
     "metadata": {},
     "output_type": "execute_result"
    }
   ],
   "source": [
    "iWs = Matrix([-thd*sin(ph),phd,thd*cos(ph)])\n",
    "h_O = Matrix([-m*l**2*thd*sin(ph),m*l**2*phd,h]); h_O,iWs"
   ]
  },
  {
   "cell_type": "code",
   "execution_count": 8,
   "metadata": {
    "collapsed": false
   },
   "outputs": [
    {
     "data": {
      "image/png": "[encoded data removed]",
      "text/latex": [
       "$$\\left[\\begin{matrix}h \\dot{\\phi} - 2 l^{2} m \\dot{\\phi} \\dot{\\theta} \\cos{\\left (\\phi \\right )} - l^{2} m \\ddot{\\theta} \\sin{\\left (\\phi \\right )}\\\\h \\dot{\\theta} \\sin{\\left (\\phi \\right )} + l^{2} m \\ddot{\\phi} - l^{2} m \\dot{\\theta}^{2} \\sin{\\left (\\phi \\right )} \\cos{\\left (\\phi \\right )}\\\\0\\end{matrix}\\right]$$"
      ],
      "text/plain": [
       "⎡           2                   2              ⎤\n",
       "⎢ h⋅φ̇ - 2⋅l ⋅m⋅φ̇⋅θ̇⋅cos(φ) - l ⋅m⋅θ̈⋅sin(φ)  ⎥\n",
       "⎢                                              ⎥\n",
       "⎢               2         2     2              ⎥\n",
       "⎢h⋅θ̇⋅sin(φ) + l ⋅m⋅φ̈ - l ⋅m⋅θ̇ ⋅sin(φ)⋅cos(φ)⎥\n",
       "⎢                                              ⎥\n",
       "⎣                      0                       ⎦"
      ]
     },
     "execution_count": 8,
     "metadata": {},
     "output_type": "execute_result"
    }
   ],
   "source": [
    "dh_O = difftotalmat(h_O,t,{th:thd,thd:thdd,ph:phd,phd:phdd,psi:psid,psid:psidd}) + h_O[0]*iWs.cross(Matrix([1,0,0])) +h_O[1]*iWs.cross(Matrix([0,1,0])) + h_O[2]*iWs.cross(Matrix([0,0,1]))\n",
    "dh_O"
   ]
  },
  {
   "cell_type": "code",
   "execution_count": 9,
   "metadata": {
    "collapsed": false
   },
   "outputs": [
    {
     "data": {
      "image/png": "[encoded data removed]",
      "text/latex": [
       "$$\\left \\{ \\ddot{\\phi} : \\frac{\\sin{\\left (\\phi \\right )}}{l^{2} m} \\left(g l m - h \\dot{\\theta} + l^{2} m \\dot{\\theta}^{2} \\cos{\\left (\\phi \\right )}\\right), \\quad \\ddot{\\theta} : \\frac{\\dot{\\phi} \\left(h - 2 l^{2} m \\dot{\\theta} \\cos{\\left (\\phi \\right )}\\right)}{l^{2} m \\sin{\\left (\\phi \\right )}}\\right \\}$$"
      ],
      "text/plain": [
       "⎧    ⎛                2     2       ⎞                ⎛       2            ⎞⎫\n",
       "⎪    ⎝g⋅l⋅m - h⋅θ̇ + l ⋅m⋅θ̇ ⋅cos(φ)⎠⋅sin(φ)      φ̇⋅⎝h - 2⋅l ⋅m⋅θ̇⋅cos(φ)⎠⎪\n",
       "⎨φ̈: ───────────────────────────────────────, θ̈: ─────────────────────────⎬\n",
       "⎪                       2                                 2                ⎪\n",
       "⎩                      l ⋅m                              l ⋅m⋅sin(φ)       ⎭"
      ]
     },
     "execution_count": 9,
     "metadata": {},
     "output_type": "execute_result"
    }
   ],
   "source": [
    "sol1 = solve(dh_O - Matrix([0,m*g*l*sin(ph),0]),(thdd,phdd)); sol1"
   ]
  },
  {
   "cell_type": "code",
   "execution_count": 10,
   "metadata": {
    "collapsed": false
   },
   "outputs": [
    {
     "data": {
      "image/png": "[encoded data removed]",
      "text/latex": [
       "$$\\left [ 0, \\quad \\pi, \\quad - \\operatorname{acos}{\\left (- \\frac{\\frac{g}{\\dot{\\theta}} - \\frac{h}{l m}}{l \\dot{\\theta}} \\right )} + 2 \\pi, \\quad \\operatorname{acos}{\\left (- \\frac{g}{l \\dot{\\theta}^{2}} + \\frac{h}{l^{2} m \\dot{\\theta}} \\right )}\\right ]$$"
      ],
      "text/plain": [
       "⎡            ⎛ ⎛g     h ⎞ ⎞                               ⎤\n",
       "⎢            ⎜-⎜── - ───⎟ ⎟                               ⎥\n",
       "⎢            ⎜ ⎝θ̇   l⋅m⎠ ⎟            ⎛    g        h   ⎞⎥\n",
       "⎢0, π, - acos⎜────────────⎟ + 2⋅π, acos⎜- ───── + ───────⎟⎥\n",
       "⎢            ⎝    l⋅θ̇    ⎠            ⎜      2    2     ⎟⎥\n",
       "⎣                                      ⎝  l⋅θ̇    l ⋅m⋅θ̇⎠⎦"
      ]
     },
     "execution_count": 10,
     "metadata": {},
     "output_type": "execute_result"
    }
   ],
   "source": [
    "solve(sol1[phdd],ph)"
   ]
  },
  {
   "cell_type": "code",
   "execution_count": null,
   "metadata": {
    "collapsed": true
   },
   "outputs": [],
   "source": []
  },
  {
   "cell_type": "raw",
   "metadata": {
    "collapsed": true
   },
   "source": [
    "Cylinder MOI"
   ]
  },
  {
   "cell_type": "code",
   "execution_count": 11,
   "metadata": {
    "collapsed": true
   },
   "outputs": [],
   "source": [
    "r,z,h = symbols('r,z,h')"
   ]
  },
  {
   "cell_type": "code",
   "execution_count": 12,
   "metadata": {
    "collapsed": false
   },
   "outputs": [
    {
     "data": {
      "image/png": "[encoded data removed]",
      "text/latex": [
       "$$\\left[\\begin{matrix}r \\cos{\\left (\\theta \\right )}\\\\r \\sin{\\left (\\theta \\right )}\\\\z\\end{matrix}\\right]$$"
      ],
      "text/plain": [
       "⎡r⋅cos(θ)⎤\n",
       "⎢        ⎥\n",
       "⎢r⋅sin(θ)⎥\n",
       "⎢        ⎥\n",
       "⎣   z    ⎦"
      ]
     },
     "execution_count": 12,
     "metadata": {},
     "output_type": "execute_result"
    }
   ],
   "source": [
    "r_dm_G = Matrix([r*cos(th),r*sin(th), z]);r_dm_G"
   ]
  },
  {
   "cell_type": "code",
   "execution_count": 13,
   "metadata": {
    "collapsed": false
   },
   "outputs": [
    {
     "data": {
      "image/png": "[encoded data removed]",
      "text/latex": [
       "$$\\left[\\begin{matrix}r^{2} + z^{2}\\end{matrix}\\right]$$"
      ],
      "text/plain": [
       "⎡ 2    2⎤\n",
       "⎣r  + z ⎦"
      ]
     },
     "execution_count": 13,
     "metadata": {},
     "output_type": "execute_result"
    }
   ],
   "source": [
    "simplify(r_dm_G.transpose()*r_dm_G)"
   ]
  },
  {
   "cell_type": "code",
   "execution_count": 14,
   "metadata": {
    "collapsed": false
   },
   "outputs": [
    {
     "data": {
      "image/png": "[encoded data removed]",
      "text/latex": [
       "$$\\left[\\begin{matrix}r^{2} \\cos^{2}{\\left (\\theta \\right )} & r^{2} \\sin{\\left (\\theta \\right )} \\cos{\\left (\\theta \\right )} & r z \\cos{\\left (\\theta \\right )}\\\\r^{2} \\sin{\\left (\\theta \\right )} \\cos{\\left (\\theta \\right )} & r^{2} \\sin^{2}{\\left (\\theta \\right )} & r z \\sin{\\left (\\theta \\right )}\\\\r z \\cos{\\left (\\theta \\right )} & r z \\sin{\\left (\\theta \\right )} & z^{2}\\end{matrix}\\right]$$"
      ],
      "text/plain": [
       "⎡    2    2         2                          ⎤\n",
       "⎢   r ⋅cos (θ)     r ⋅sin(θ)⋅cos(θ)  r⋅z⋅cos(θ)⎥\n",
       "⎢                                              ⎥\n",
       "⎢ 2                    2    2                  ⎥\n",
       "⎢r ⋅sin(θ)⋅cos(θ)     r ⋅sin (θ)     r⋅z⋅sin(θ)⎥\n",
       "⎢                                              ⎥\n",
       "⎢                                         2    ⎥\n",
       "⎣   r⋅z⋅cos(θ)        r⋅z⋅sin(θ)         z     ⎦"
      ]
     },
     "execution_count": 14,
     "metadata": {},
     "output_type": "execute_result"
    }
   ],
   "source": [
    "r_dm_G*r_dm_G.transpose()"
   ]
  },
  {
   "cell_type": "code",
   "execution_count": 15,
   "metadata": {
    "collapsed": false
   },
   "outputs": [
    {
     "data": {
      "image/png": "[encoded data removed]",
      "text/latex": [
       "$$\\left[\\begin{matrix}- r^{2} \\cos^{2}{\\left (\\theta \\right )} + r^{2} + z^{2} & - r^{2} \\sin{\\left (\\theta \\right )} \\cos{\\left (\\theta \\right )} & - r z \\cos{\\left (\\theta \\right )}\\\\- r^{2} \\sin{\\left (\\theta \\right )} \\cos{\\left (\\theta \\right )} & - r^{2} \\sin^{2}{\\left (\\theta \\right )} + r^{2} + z^{2} & - r z \\sin{\\left (\\theta \\right )}\\\\- r z \\cos{\\left (\\theta \\right )} & - r z \\sin{\\left (\\theta \\right )} & r^{2}\\end{matrix}\\right]$$"
      ],
      "text/plain": [
       "⎡   2    2       2    2      2                              ⎤\n",
       "⎢- r ⋅cos (θ) + r  + z     -r ⋅sin(θ)⋅cos(θ)     -r⋅z⋅cos(θ)⎥\n",
       "⎢                                                           ⎥\n",
       "⎢    2                      2    2       2    2             ⎥\n",
       "⎢  -r ⋅sin(θ)⋅cos(θ)     - r ⋅sin (θ) + r  + z   -r⋅z⋅sin(θ)⎥\n",
       "⎢                                                           ⎥\n",
       "⎢                                                     2     ⎥\n",
       "⎣     -r⋅z⋅cos(θ)             -r⋅z⋅sin(θ)            r      ⎦"
      ]
     },
     "execution_count": 15,
     "metadata": {},
     "output_type": "execute_result"
    }
   ],
   "source": [
    "kern1 = ((simplify(r_dm_G.transpose()*r_dm_G))[0]*eye(3) - r_dm_G*r_dm_G.transpose())\n",
    "kern1"
   ]
  },
  {
   "cell_type": "code",
   "execution_count": 18,
   "metadata": {
    "collapsed": false
   },
   "outputs": [
    {
     "data": {
      "image/png": "[encoded data removed]",
      "text/latex": [
       "$$\\left[\\begin{matrix}\\frac{m}{12} \\left(3 R^{2} + h^{2}\\right) & 0 & 0\\\\0 & \\frac{m}{12} \\left(3 R^{2} + h^{2}\\right) & 0\\\\0 & 0 & \\frac{R^{2} m}{2}\\end{matrix}\\right]$$"
      ],
      "text/plain": [
       "⎡  ⎛   2    2⎞                     ⎤\n",
       "⎢m⋅⎝3⋅R  + h ⎠                     ⎥\n",
       "⎢─────────────        0         0  ⎥\n",
       "⎢      12                          ⎥\n",
       "⎢                                  ⎥\n",
       "⎢                 ⎛   2    2⎞      ⎥\n",
       "⎢               m⋅⎝3⋅R  + h ⎠      ⎥\n",
       "⎢      0        ─────────────   0  ⎥\n",
       "⎢                     12           ⎥\n",
       "⎢                                  ⎥\n",
       "⎢                               2  ⎥\n",
       "⎢                              R ⋅m⎥\n",
       "⎢      0              0        ────⎥\n",
       "⎣                               2  ⎦"
      ]
     },
     "execution_count": 18,
     "metadata": {},
     "output_type": "execute_result"
    }
   ],
   "source": [
    "simplify(integrate(integrate(integrate(kern1*r,(r,0,R)),(th,0,2*pi)),(z,-h/2,h/2))*m/pi/R**2/h)"
   ]
  },
  {
   "cell_type": "code",
   "execution_count": null,
   "metadata": {
    "collapsed": true
   },
   "outputs": [],
   "source": []
  },
  {
   "cell_type": "markdown",
   "metadata": {
    "collapsed": true
   },
   "source": [
    "Cross Product as Matrix Operation"
   ]
  },
  {
   "cell_type": "code",
   "execution_count": 19,
   "metadata": {
    "collapsed": false
   },
   "outputs": [],
   "source": [
    "a1,a2,a3,b1,b2,b3 = symbols('a_1,a_2,a_3,b_1,b_2,b_3')"
   ]
  },
  {
   "cell_type": "code",
   "execution_count": 20,
   "metadata": {
    "collapsed": false
   },
   "outputs": [
    {
     "data": {
      "image/png": "[encoded data removed]",
      "text/latex": [
       "$$\\left ( \\left[\\begin{matrix}a_{1}\\\\a_{2}\\\\a_{3}\\end{matrix}\\right], \\quad \\left[\\begin{matrix}b_{1}\\\\b_{2}\\\\b_{3}\\end{matrix}\\right]\\right )$$"
      ],
      "text/plain": [
       "⎛⎡a₁⎤, ⎡b₁⎤⎞\n",
       "⎜⎢  ⎥  ⎢  ⎥⎟\n",
       "⎜⎢a₂⎥  ⎢b₂⎥⎟\n",
       "⎜⎢  ⎥  ⎢  ⎥⎟\n",
       "⎝⎣a₃⎦  ⎣b₃⎦⎠"
      ]
     },
     "execution_count": 20,
     "metadata": {},
     "output_type": "execute_result"
    }
   ],
   "source": [
    "a = Matrix([a1,a2,a3])\n",
    "b = Matrix([b1,b2,b3])\n",
    "a,b"
   ]
  },
  {
   "cell_type": "code",
   "execution_count": 21,
   "metadata": {
    "collapsed": false
   },
   "outputs": [
    {
     "data": {
      "image/png": "[encoded data removed]",
      "text/latex": [
       "$$\\left[\\begin{matrix}a_{2} b_{3} - a_{3} b_{2}\\\\- a_{1} b_{3} + a_{3} b_{1}\\\\a_{1} b_{2} - a_{2} b_{1}\\end{matrix}\\right]$$"
      ],
      "text/plain": [
       "⎡a₂⋅b₃ - a₃⋅b₂ ⎤\n",
       "⎢              ⎥\n",
       "⎢-a₁⋅b₃ + a₃⋅b₁⎥\n",
       "⎢              ⎥\n",
       "⎣a₁⋅b₂ - a₂⋅b₁ ⎦"
      ]
     },
     "execution_count": 21,
     "metadata": {},
     "output_type": "execute_result"
    }
   ],
   "source": [
    "a.cross(b)"
   ]
  },
  {
   "cell_type": "code",
   "execution_count": 22,
   "metadata": {
    "collapsed": false
   },
   "outputs": [
    {
     "data": {
      "image/png": "[encoded data removed]",
      "text/latex": [
       "$$\\left[\\begin{matrix}0 & - a_{3} & a_{2}\\\\a_{3} & 0 & - a_{1}\\\\- a_{2} & a_{1} & 0\\end{matrix}\\right]$$"
      ],
      "text/plain": [
       "⎡ 0   -a₃  a₂ ⎤\n",
       "⎢             ⎥\n",
       "⎢a₃    0   -a₁⎥\n",
       "⎢             ⎥\n",
       "⎣-a₂  a₁    0 ⎦"
      ]
     },
     "execution_count": 22,
     "metadata": {},
     "output_type": "execute_result"
    }
   ],
   "source": [
    "at = Matrix([[0,-a3,a2],[a3,0,-a1],[-a2,a1,0]]); at"
   ]
  },
  {
   "cell_type": "code",
   "execution_count": 23,
   "metadata": {
    "collapsed": false
   },
   "outputs": [
    {
     "data": {
      "image/png": "[encoded data removed]",
      "text/latex": [
       "$$\\left[\\begin{matrix}a_{2} b_{3} - a_{3} b_{2}\\\\- a_{1} b_{3} + a_{3} b_{1}\\\\a_{1} b_{2} - a_{2} b_{1}\\end{matrix}\\right]$$"
      ],
      "text/plain": [
       "⎡a₂⋅b₃ - a₃⋅b₂ ⎤\n",
       "⎢              ⎥\n",
       "⎢-a₁⋅b₃ + a₃⋅b₁⎥\n",
       "⎢              ⎥\n",
       "⎣a₁⋅b₂ - a₂⋅b₁ ⎦"
      ]
     },
     "execution_count": 23,
     "metadata": {},
     "output_type": "execute_result"
    }
   ],
   "source": [
    "at*b"
   ]
  },
  {
   "cell_type": "code",
   "execution_count": null,
   "metadata": {
    "collapsed": true
   },
   "outputs": [],
   "source": []
  },
  {
   "cell_type": "markdown",
   "metadata": {},
   "source": [
    "Spinning Symmetric Rigid Body"
   ]
  },
  {
   "cell_type": "code",
   "execution_count": 24,
   "metadata": {
    "collapsed": true
   },
   "outputs": [],
   "source": [
    "I1,I2,I3,O,t,M1 = symbols('I_1,I_2,I_3,Omega,t,M_1')"
   ]
  },
  {
   "cell_type": "code",
   "execution_count": 25,
   "metadata": {
    "collapsed": false
   },
   "outputs": [
    {
     "data": {
      "image/png": "[encoded data removed]",
      "text/latex": [
       "$$\\left ( \\left[\\begin{matrix}\\dot{\\theta}\\\\\\dot{\\psi} \\sin{\\left (\\theta \\right )}\\\\\\dot{\\psi} \\cos{\\left (\\theta \\right )}\\end{matrix}\\right], \\quad \\left[\\begin{matrix}\\dot{\\theta}\\\\\\Omega + \\dot{\\psi} \\sin{\\left (\\theta \\right )}\\\\\\dot{\\psi} \\cos{\\left (\\theta \\right )}\\end{matrix}\\right]\\right )$$"
      ],
      "text/plain": [
       "⎛⎡   θ̇    ⎤, ⎡     θ̇      ⎤⎞\n",
       "⎜⎢         ⎥  ⎢             ⎥⎟\n",
       "⎜⎢ψ̇⋅sin(θ)⎥  ⎢Ω + ψ̇⋅sin(θ)⎥⎟\n",
       "⎜⎢         ⎥  ⎢             ⎥⎟\n",
       "⎝⎣ψ̇⋅cos(θ)⎦  ⎣  ψ̇⋅cos(θ)  ⎦⎠"
      ]
     },
     "execution_count": 25,
     "metadata": {},
     "output_type": "execute_result"
    }
   ],
   "source": [
    "iWc = Matrix([thd,psid*sin(th)+O,psid*cos(th)])\n",
    "iWb = Matrix([thd,psid*sin(th),psid*cos(th)])\n",
    "iWb,iWc"
   ]
  },
  {
   "cell_type": "code",
   "execution_count": 26,
   "metadata": {
    "collapsed": false
   },
   "outputs": [
    {
     "data": {
      "image/png": "[encoded data removed]",
      "text/latex": [
       "$$\\left[\\begin{matrix}I_{1} & 0 & 0\\\\0 & I_{2} & 0\\\\0 & 0 & I_{1}\\end{matrix}\\right]$$"
      ],
      "text/plain": [
       "⎡I₁  0   0 ⎤\n",
       "⎢          ⎥\n",
       "⎢0   I₂  0 ⎥\n",
       "⎢          ⎥\n",
       "⎣0   0   I₁⎦"
      ]
     },
     "execution_count": 26,
     "metadata": {},
     "output_type": "execute_result"
    }
   ],
   "source": [
    "I_G = diag(I1,I2,I1); I_G"
   ]
  },
  {
   "cell_type": "code",
   "execution_count": 27,
   "metadata": {
    "collapsed": false
   },
   "outputs": [
    {
     "data": {
      "image/png": "[encoded data removed]",
      "text/latex": [
       "$$\\left[\\begin{matrix}I_{1} \\dot{\\theta}\\\\I_{2} \\left(\\Omega + \\dot{\\psi} \\sin{\\left (\\theta \\right )}\\right)\\\\I_{1} \\dot{\\psi} \\cos{\\left (\\theta \\right )}\\end{matrix}\\right]$$"
      ],
      "text/plain": [
       "⎡      I₁⋅θ̇       ⎤\n",
       "⎢                  ⎥\n",
       "⎢I₂⋅(Ω + ψ̇⋅sin(θ))⎥\n",
       "⎢                  ⎥\n",
       "⎣   I₁⋅ψ̇⋅cos(θ)   ⎦"
      ]
     },
     "execution_count": 27,
     "metadata": {},
     "output_type": "execute_result"
    }
   ],
   "source": [
    "h_G = I_G*iWc; h_G"
   ]
  },
  {
   "cell_type": "code",
   "execution_count": 28,
   "metadata": {
    "collapsed": false
   },
   "outputs": [
    {
     "data": {
      "image/png": "[encoded data removed]",
      "text/latex": [
       "$$\\left[\\begin{matrix}I_{1} \\ddot{\\theta}\\\\I_{2} \\left(\\ddot{\\psi} \\sin{\\left (\\theta \\right )} + \\dot{\\psi} \\dot{\\theta} \\cos{\\left (\\theta \\right )}\\right)\\\\I_{1} \\ddot{\\psi} \\cos{\\left (\\theta \\right )} - I_{1} \\dot{\\psi} \\dot{\\theta} \\sin{\\left (\\theta \\right )}\\end{matrix}\\right]$$"
      ],
      "text/plain": [
       "⎡            I₁⋅θ̈             ⎤\n",
       "⎢                              ⎥\n",
       "⎢I₂⋅(ψ̈⋅sin(θ) + ψ̇⋅θ̇⋅cos(θ)) ⎥\n",
       "⎢                              ⎥\n",
       "⎣I₁⋅ψ̈⋅cos(θ) - I₁⋅ψ̇⋅θ̇⋅sin(θ)⎦"
      ]
     },
     "execution_count": 28,
     "metadata": {},
     "output_type": "execute_result"
    }
   ],
   "source": [
    "dh_G= difftotalmat(h_G,t,{th:thd,thd:thdd,psi:psid,psid:psidd}); dh_G"
   ]
  },
  {
   "cell_type": "code",
   "execution_count": 29,
   "metadata": {
    "collapsed": false
   },
   "outputs": [
    {
     "data": {
      "image/png": "[encoded data removed]",
      "text/latex": [
       "$$\\left[\\begin{matrix}I_{1} \\dot{\\psi}^{2} \\sin{\\left (\\theta \\right )} \\cos{\\left (\\theta \\right )} - I_{2} \\dot{\\psi} \\left(\\Omega + \\dot{\\psi} \\sin{\\left (\\theta \\right )}\\right) \\cos{\\left (\\theta \\right )}\\\\0\\\\- I_{1} \\dot{\\psi} \\dot{\\theta} \\sin{\\left (\\theta \\right )} + I_{2} \\dot{\\theta} \\left(\\Omega + \\dot{\\psi} \\sin{\\left (\\theta \\right )}\\right)\\end{matrix}\\right]$$"
      ],
      "text/plain": [
       "⎡     2                                             ⎤\n",
       "⎢I₁⋅ψ̇ ⋅sin(θ)⋅cos(θ) - I₂⋅ψ̇⋅(Ω + ψ̇⋅sin(θ))⋅cos(θ)⎥\n",
       "⎢                                                   ⎥\n",
       "⎢                         0                         ⎥\n",
       "⎢                                                   ⎥\n",
       "⎣     -I₁⋅ψ̇⋅θ̇⋅sin(θ) + I₂⋅θ̇⋅(Ω + ψ̇⋅sin(θ))      ⎦"
      ]
     },
     "execution_count": 29,
     "metadata": {},
     "output_type": "execute_result"
    }
   ],
   "source": [
    "t2 = iWb.cross(h_G); t2"
   ]
  },
  {
   "cell_type": "code",
   "execution_count": 30,
   "metadata": {
    "collapsed": false
   },
   "outputs": [
    {
     "data": {
      "image/png": "[encoded data removed]",
      "text/latex": [
       "$$\\left ( \\left[\\begin{matrix}I_{1} \\dot{\\psi}^{2} \\sin{\\left (\\theta \\right )} \\cos{\\left (\\theta \\right )} + I_{1} \\ddot{\\theta} - I_{2} \\dot{\\psi} \\left(\\Omega + \\dot{\\psi} \\sin{\\left (\\theta \\right )}\\right) \\cos{\\left (\\theta \\right )}\\\\I_{2} \\left(\\ddot{\\psi} \\sin{\\left (\\theta \\right )} + \\dot{\\psi} \\dot{\\theta} \\cos{\\left (\\theta \\right )}\\right)\\\\I_{1} \\ddot{\\psi} \\cos{\\left (\\theta \\right )} - 2 I_{1} \\dot{\\psi} \\dot{\\theta} \\sin{\\left (\\theta \\right )} + I_{2} \\dot{\\theta} \\left(\\Omega + \\dot{\\psi} \\sin{\\left (\\theta \\right )}\\right)\\end{matrix}\\right], \\quad \\left[\\begin{matrix}- M_{1}\\\\0\\\\0\\end{matrix}\\right]\\right )$$"
      ],
      "text/plain": [
       "⎛⎡     2                                                     ⎤       ⎞\n",
       "⎜⎢I₁⋅ψ̇ ⋅sin(θ)⋅cos(θ) + I₁⋅θ̈ - I₂⋅ψ̇⋅(Ω + ψ̇⋅sin(θ))⋅cos(θ)⎥, ⎡-M₁⎤⎟\n",
       "⎜⎢                                                           ⎥  ⎢   ⎥⎟\n",
       "⎜⎢               I₂⋅(ψ̈⋅sin(θ) + ψ̇⋅θ̇⋅cos(θ))               ⎥  ⎢ 0 ⎥⎟\n",
       "⎜⎢                                                           ⎥  ⎢   ⎥⎟\n",
       "⎝⎣ I₁⋅ψ̈⋅cos(θ) - 2⋅I₁⋅ψ̇⋅θ̇⋅sin(θ) + I₂⋅θ̇⋅(Ω + ψ̇⋅sin(θ))  ⎦  ⎣ 0 ⎦⎠"
      ]
     },
     "execution_count": 30,
     "metadata": {},
     "output_type": "execute_result"
    }
   ],
   "source": [
    "dh_G + t2,Matrix([-M1,0,0])"
   ]
  },
  {
   "cell_type": "code",
   "execution_count": 31,
   "metadata": {
    "collapsed": false
   },
   "outputs": [
    {
     "data": {
      "image/png": "[encoded data removed]",
      "text/latex": [
       "$$\\left[\\begin{matrix}I_{1} \\dot{\\psi}^{2} \\sin{\\left (\\theta \\right )} \\cos{\\left (\\theta \\right )} + I_{1} \\ddot{\\theta} - I_{2} \\dot{\\psi} \\left(\\Omega + \\dot{\\psi} \\sin{\\left (\\theta \\right )}\\right) \\cos{\\left (\\theta \\right )} + M_{1}\\\\I_{2} \\left(\\ddot{\\psi} \\sin{\\left (\\theta \\right )} + \\dot{\\psi} \\dot{\\theta} \\cos{\\left (\\theta \\right )}\\right)\\\\I_{1} \\ddot{\\psi} \\cos{\\left (\\theta \\right )} - 2 I_{1} \\dot{\\psi} \\dot{\\theta} \\sin{\\left (\\theta \\right )} + I_{2} \\dot{\\theta} \\left(\\Omega + \\dot{\\psi} \\sin{\\left (\\theta \\right )}\\right)\\end{matrix}\\right]$$"
      ],
      "text/plain": [
       "⎡     2                                                          ⎤\n",
       "⎢I₁⋅ψ̇ ⋅sin(θ)⋅cos(θ) + I₁⋅θ̈ - I₂⋅ψ̇⋅(Ω + ψ̇⋅sin(θ))⋅cos(θ) + M₁⎥\n",
       "⎢                                                                ⎥\n",
       "⎢                 I₂⋅(ψ̈⋅sin(θ) + ψ̇⋅θ̇⋅cos(θ))                  ⎥\n",
       "⎢                                                                ⎥\n",
       "⎣    I₁⋅ψ̈⋅cos(θ) - 2⋅I₁⋅ψ̇⋅θ̇⋅sin(θ) + I₂⋅θ̇⋅(Ω + ψ̇⋅sin(θ))    ⎦"
      ]
     },
     "execution_count": 31,
     "metadata": {},
     "output_type": "execute_result"
    }
   ],
   "source": [
    "dh_G + t2 - Matrix([-M1,0,0])"
   ]
  },
  {
   "cell_type": "code",
   "execution_count": null,
   "metadata": {
    "collapsed": true
   },
   "outputs": [],
   "source": []
  },
  {
   "cell_type": "markdown",
   "metadata": {},
   "source": [
    "Euler's Equations"
   ]
  },
  {
   "cell_type": "code",
   "execution_count": 32,
   "metadata": {
    "collapsed": false
   },
   "outputs": [],
   "source": [
    "I1,I2,I3,w1,w2,w3,w1d,w2d,w3d,M1,M2,M3 = symbols('I_1,I_2,I_3,omega_1,omega_2,omega_3,omegadot_1,omegadot_2,omegadot_3,M_1,M_2,M_3')"
   ]
  },
  {
   "cell_type": "code",
   "execution_count": 33,
   "metadata": {
    "collapsed": false
   },
   "outputs": [
    {
     "data": {
      "image/png": "[encoded data removed]",
      "text/latex": [
       "$$\\left ( \\left[\\begin{matrix}I_{1} & 0 & 0\\\\0 & I_{2} & 0\\\\0 & 0 & I_{3}\\end{matrix}\\right], \\quad \\left[\\begin{matrix}\\omega_{1}\\\\\\omega_{2}\\\\\\omega_{3}\\end{matrix}\\right], \\quad \\left[\\begin{matrix}\\dot{\\omega}_{1}\\\\\\dot{\\omega}_{2}\\\\\\dot{\\omega}_{3}\\end{matrix}\\right], \\quad \\left[\\begin{matrix}0 & - \\omega_{3} & \\omega_{2}\\\\\\omega_{3} & 0 & - \\omega_{1}\\\\- \\omega_{2} & \\omega_{1} & 0\\end{matrix}\\right], \\quad \\left[\\begin{matrix}M_{1}\\\\M_{2}\\\\M_{3}\\end{matrix}\\right]\\right )$$"
      ],
      "text/plain": [
       "⎛⎡I₁  0   0 ⎤, ⎡ω₁⎤, ⎡ω̇₁⎤, ⎡ 0   -ω₃  ω₂ ⎤, ⎡M₁⎤⎞\n",
       "⎜⎢          ⎥  ⎢  ⎥  ⎢   ⎥  ⎢             ⎥  ⎢  ⎥⎟\n",
       "⎜⎢0   I₂  0 ⎥  ⎢ω₂⎥  ⎢ω̇₂⎥  ⎢ω₃    0   -ω₁⎥  ⎢M₂⎥⎟\n",
       "⎜⎢          ⎥  ⎢  ⎥  ⎢   ⎥  ⎢             ⎥  ⎢  ⎥⎟\n",
       "⎝⎣0   0   I₃⎦  ⎣ω₃⎦  ⎣ω̇₃⎦  ⎣-ω₂  ω₁    0 ⎦  ⎣M₃⎦⎠"
      ]
     },
     "execution_count": 33,
     "metadata": {},
     "output_type": "execute_result"
    }
   ],
   "source": [
    "I_G = diag(I1,I2,I3)\n",
    "w = Matrix([w1,w2,w3])\n",
    "dw = difftotalmat(w,t,{w1:w1d,w2:w2d,w3:w3d})\n",
    "wt = Matrix([[0,-w3,w2],[w3,0,-w1],[-w2,w1,0]])\n",
    "M = Matrix([M1,M2,M3])\n",
    "(I_G,w,dw,wt,M)"
   ]
  },
  {
   "cell_type": "code",
   "execution_count": null,
   "metadata": {
    "collapsed": true
   },
   "outputs": [],
   "source": []
  }
 ],
 "metadata": {
  "kernelspec": {
   "display_name": "Python 2",
   "language": "python",
   "name": "python2"
  },
  "language_info": {
   "codemirror_mode": {
    "name": "ipython",
    "version": 2
   },
   "file_extension": ".py",
   "mimetype": "text/x-python",
   "name": "python",
   "nbconvert_exporter": "python",
   "pygments_lexer": "ipython2",
   "version": "2.7.12"
  }
 },
 "nbformat": 4,
 "nbformat_minor": 0
}
