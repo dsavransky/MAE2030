{
 "cells": [
  {
   "cell_type": "markdown",
   "metadata": {},
   "source": [
    "# 3D Coordinates and Kinematics Derivations"
   ]
  },
  {
   "cell_type": "markdown",
   "metadata": {},
   "source": [
    "#### Preamble stuff (can ignore) "
   ]
  },
  {
   "cell_type": "code",
   "execution_count": 1,
   "metadata": {
    "collapsed": false
   },
   "outputs": [],
   "source": [
    "from miscpy.utils.sympyhelpers import *\n",
    "init_printing()"
   ]
  },
  {
   "cell_type": "code",
   "execution_count": 2,
   "metadata": {
    "collapsed": true
   },
   "outputs": [],
   "source": [
    "th,ph,psi,thd,phd,psid = symbols('theta,phi,psi,thetadot,phidot,psidot')\n",
    "w1,w2,w3 = symbols('omega_1,omega_2,omega_3')"
   ]
  },
  {
   "cell_type": "markdown",
   "metadata": {},
   "source": [
    "### Spherical Frame - $\\theta$ rotation about $\\mathbf{e}_3$ followed by a $\\phi$ rotation about $\\mathbf{c}_2$"
   ]
  },
  {
   "cell_type": "code",
   "execution_count": 3,
   "metadata": {
    "collapsed": false
   },
   "outputs": [
    {
     "data": {
      "image/png": "[encoded data removed]",
      "text/latex": [
       "$$\\left ( \\left[\\begin{matrix}\\cos{\\left (\\theta \\right )} & \\sin{\\left (\\theta \\right )} & 0\\\\- \\sin{\\left (\\theta \\right )} & \\cos{\\left (\\theta \\right )} & 0\\\\0 & 0 & 1\\end{matrix}\\right], \\quad \\left[\\begin{matrix}\\cos{\\left (\\phi \\right )} & 0 & - \\sin{\\left (\\phi \\right )}\\\\0 & 1 & 0\\\\\\sin{\\left (\\phi \\right )} & 0 & \\cos{\\left (\\phi \\right )}\\end{matrix}\\right]\\right )$$"
      ],
      "text/plain": [
       "⎛⎡cos(θ)   sin(θ)  0⎤, ⎡cos(φ)  0  -sin(φ)⎤⎞\n",
       "⎜⎢                  ⎥  ⎢                  ⎥⎟\n",
       "⎜⎢-sin(θ)  cos(θ)  0⎥  ⎢  0     1     0   ⎥⎟\n",
       "⎜⎢                  ⎥  ⎢                  ⎥⎟\n",
       "⎝⎣   0       0     1⎦  ⎣sin(φ)  0  cos(φ) ⎦⎠"
      ]
     },
     "execution_count": 3,
     "metadata": {},
     "output_type": "execute_result"
    }
   ],
   "source": [
    "cCi = Matrix(([cos(th),sin(th),0],[-sin(th),cos(th),0],[0,0,1]))\n",
    "sCc = Matrix(([cos(ph),0,-sin(ph)],[0,1,0],[sin(ph), 0, cos(ph)]));cCi,sCc"
   ]
  },
  {
   "cell_type": "markdown",
   "metadata": {},
   "source": [
    "${}^\\mathcal{S}C^{\\mathcal{I}} ={}^\\mathcal{S}C^{\\mathcal{C}}{}^\\mathcal{C}C^{\\mathcal{I}} $"
   ]
  },
  {
   "cell_type": "code",
   "execution_count": 4,
   "metadata": {
    "collapsed": false
   },
   "outputs": [
    {
     "data": {
      "image/png": "[encoded data removed]",
      "text/latex": [
       "$$\\left[\\begin{matrix}\\cos{\\left (\\phi \\right )} \\cos{\\left (\\theta \\right )} & \\sin{\\left (\\theta \\right )} \\cos{\\left (\\phi \\right )} & - \\sin{\\left (\\phi \\right )}\\\\- \\sin{\\left (\\theta \\right )} & \\cos{\\left (\\theta \\right )} & 0\\\\\\sin{\\left (\\phi \\right )} \\cos{\\left (\\theta \\right )} & \\sin{\\left (\\phi \\right )} \\sin{\\left (\\theta \\right )} & \\cos{\\left (\\phi \\right )}\\end{matrix}\\right]$$"
      ],
      "text/plain": [
       "⎡cos(φ)⋅cos(θ)  sin(θ)⋅cos(φ)  -sin(φ)⎤\n",
       "⎢                                     ⎥\n",
       "⎢   -sin(θ)        cos(θ)         0   ⎥\n",
       "⎢                                     ⎥\n",
       "⎣sin(φ)⋅cos(θ)  sin(φ)⋅sin(θ)  cos(φ) ⎦"
      ]
     },
     "execution_count": 4,
     "metadata": {},
     "output_type": "execute_result"
    }
   ],
   "source": [
    "sCi = sCc*cCi; sCi"
   ]
  },
  {
   "cell_type": "markdown",
   "metadata": {
    "collapsed": true
   },
   "source": [
    "### 3-2-3 $(\\psi,\\theta,\\phi)^{\\mathcal{I}}_{\\mathcal{B}}$ Euler Angles - $\\psi$ rotation about $\\mathbf{e}_1$ followed by a $\\theta$ rotation about $\\mathbf{a}_2$ followed by a $\\phi$ rotation about $\\mathbf{c}_3$"
   ]
  },
  {
   "cell_type": "code",
   "execution_count": 5,
   "metadata": {
    "collapsed": false
   },
   "outputs": [
    {
     "data": {
      "image/png": "[encoded data removed]",
      "text/latex": [
       "$$\\left ( \\left[\\begin{matrix}\\cos{\\left (\\phi \\right )} & \\sin{\\left (\\phi \\right )} & 0\\\\- \\sin{\\left (\\phi \\right )} & \\cos{\\left (\\phi \\right )} & 0\\\\0 & 0 & 1\\end{matrix}\\right], \\quad \\left[\\begin{matrix}\\cos{\\left (\\theta \\right )} & 0 & - \\sin{\\left (\\theta \\right )}\\\\0 & 1 & 0\\\\\\sin{\\left (\\theta \\right )} & 0 & \\cos{\\left (\\theta \\right )}\\end{matrix}\\right], \\quad \\left[\\begin{matrix}\\cos{\\left (\\psi \\right )} & \\sin{\\left (\\psi \\right )} & 0\\\\- \\sin{\\left (\\psi \\right )} & \\cos{\\left (\\psi \\right )} & 0\\\\0 & 0 & 1\\end{matrix}\\right]\\right )$$"
      ],
      "text/plain": [
       "⎛⎡cos(φ)   sin(φ)  0⎤, ⎡cos(θ)  0  -sin(θ)⎤, ⎡cos(ψ)   sin(ψ)  0⎤⎞\n",
       "⎜⎢                  ⎥  ⎢                  ⎥  ⎢                  ⎥⎟\n",
       "⎜⎢-sin(φ)  cos(φ)  0⎥  ⎢  0     1     0   ⎥  ⎢-sin(ψ)  cos(ψ)  0⎥⎟\n",
       "⎜⎢                  ⎥  ⎢                  ⎥  ⎢                  ⎥⎟\n",
       "⎝⎣   0       0     1⎦  ⎣sin(θ)  0  cos(θ) ⎦  ⎣   0       0     1⎦⎠"
      ]
     },
     "execution_count": 5,
     "metadata": {},
     "output_type": "execute_result"
    }
   ],
   "source": [
    "aCi = Matrix(([cos(psi),sin(psi),0],[-sin(psi),cos(psi),0],[0,0,1]))\n",
    "cCa = Matrix(([cos(th),0,-sin(th)],[0,1,0],[sin(th), 0, cos(th)]))\n",
    "bCc = Matrix(([cos(ph),sin(ph),0],[-sin(ph),cos(ph),0],[0,0,1])); bCc, cCa, aCi"
   ]
  },
  {
   "cell_type": "markdown",
   "metadata": {},
   "source": [
    "${}^\\mathcal{B}C^{\\mathcal{I}} ={}^\\mathcal{B}C^{\\mathcal{C}}{}^\\mathcal{C}C^{\\mathcal{A}}{}^\\mathcal{A}C^{\\mathcal{I}} $"
   ]
  },
  {
   "cell_type": "code",
   "execution_count": 6,
   "metadata": {
    "collapsed": false
   },
   "outputs": [
    {
     "data": {
      "image/png": "[encoded data removed]",
      "text/latex": [
       "$$\\left[\\begin{matrix}- \\sin{\\left (\\phi \\right )} \\sin{\\left (\\psi \\right )} + \\cos{\\left (\\phi \\right )} \\cos{\\left (\\psi \\right )} \\cos{\\left (\\theta \\right )} & \\sin{\\left (\\phi \\right )} \\cos{\\left (\\psi \\right )} + \\sin{\\left (\\psi \\right )} \\cos{\\left (\\phi \\right )} \\cos{\\left (\\theta \\right )} & - \\sin{\\left (\\theta \\right )} \\cos{\\left (\\phi \\right )}\\\\- \\sin{\\left (\\phi \\right )} \\cos{\\left (\\psi \\right )} \\cos{\\left (\\theta \\right )} - \\sin{\\left (\\psi \\right )} \\cos{\\left (\\phi \\right )} & - \\sin{\\left (\\phi \\right )} \\sin{\\left (\\psi \\right )} \\cos{\\left (\\theta \\right )} + \\cos{\\left (\\phi \\right )} \\cos{\\left (\\psi \\right )} & \\sin{\\left (\\phi \\right )} \\sin{\\left (\\theta \\right )}\\\\\\sin{\\left (\\theta \\right )} \\cos{\\left (\\psi \\right )} & \\sin{\\left (\\psi \\right )} \\sin{\\left (\\theta \\right )} & \\cos{\\left (\\theta \\right )}\\end{matrix}\\right]$$"
      ],
      "text/plain": [
       "⎡-sin(φ)⋅sin(ψ) + cos(φ)⋅cos(ψ)⋅cos(θ)  sin(φ)⋅cos(ψ) + sin(ψ)⋅cos(φ)⋅cos(θ)  \n",
       "⎢                                                                             \n",
       "⎢-sin(φ)⋅cos(ψ)⋅cos(θ) - sin(ψ)⋅cos(φ)  -sin(φ)⋅sin(ψ)⋅cos(θ) + cos(φ)⋅cos(ψ) \n",
       "⎢                                                                             \n",
       "⎣            sin(θ)⋅cos(ψ)                          sin(ψ)⋅sin(θ)             \n",
       "\n",
       " -sin(θ)⋅cos(φ)⎤\n",
       "               ⎥\n",
       " sin(φ)⋅sin(θ) ⎥\n",
       "               ⎥\n",
       "     cos(θ)    ⎦"
      ]
     },
     "execution_count": 6,
     "metadata": {},
     "output_type": "execute_result"
    }
   ],
   "source": [
    "bCi = bCc*cCa*aCi; bCi"
   ]
  },
  {
   "cell_type": "markdown",
   "metadata": {},
   "source": [
    "### 3-2-3 $(\\psi,\\theta,\\phi)^{\\mathcal{I}}_{\\mathcal{B}}$ Euler Angles - Angular velocity  ${}^{\\mathcal{I}}\\boldsymbol{\\omega}^\\mathcal{B} =  \\dot\\psi \\mathbf{a}_3 + \\dot\\theta \\mathbf{c}_2 + \\dot\\phi \\mathbf{b}_3$\n"
   ]
  },
  {
   "cell_type": "markdown",
   "metadata": {},
   "source": [
    "Expressed in terms of only $\\mathcal{B}$ frame unit vectors:"
   ]
  },
  {
   "cell_type": "code",
   "execution_count": 7,
   "metadata": {
    "collapsed": false
   },
   "outputs": [
    {
     "data": {
      "image/png": "[encoded data removed]",
      "text/latex": [
       "$$\\left[\\begin{matrix}- \\dot{\\psi} \\sin{\\left (\\theta \\right )} \\cos{\\left (\\phi \\right )} + \\dot{\\theta} \\sin{\\left (\\phi \\right )}\\\\\\dot{\\psi} \\sin{\\left (\\phi \\right )} \\sin{\\left (\\theta \\right )} + \\dot{\\theta} \\cos{\\left (\\phi \\right )}\\\\\\dot{\\phi} + \\dot{\\psi} \\cos{\\left (\\theta \\right )}\\end{matrix}\\right]$$"
      ],
      "text/plain": [
       "⎡-ψ̇⋅sin(θ)⋅cos(φ) + θ̇⋅sin(φ)⎤\n",
       "⎢                             ⎥\n",
       "⎢ψ̇⋅sin(φ)⋅sin(θ) + θ̇⋅cos(φ) ⎥\n",
       "⎢                             ⎥\n",
       "⎣       φ̇ + ψ̇⋅cos(θ)        ⎦"
      ]
     },
     "execution_count": 7,
     "metadata": {},
     "output_type": "execute_result"
    }
   ],
   "source": [
    "w = psid*bCi*Matrix([0,0,1]) + thd*bCc*Matrix([0,1,0]) +  phd*Matrix([0,0,1]); w"
   ]
  },
  {
   "cell_type": "markdown",
   "metadata": {},
   "source": [
    "Defining ${}^{\\mathcal{I}}\\boldsymbol{\\omega}^\\mathcal{B} =  \\omega_1 \\mathbf{b}_1 + \\omega_2 \\mathbf{b}_2 + \\omega_3 \\mathbf{b}_3$ And solving for $\\dot\\psi,\\dot\\theta,\\dot\\phi$ in terms of $\\omega_1,\\omega_2\\omega_3$:"
   ]
  },
  {
   "cell_type": "code",
   "execution_count": 8,
   "metadata": {
    "collapsed": false
   },
   "outputs": [
    {
     "data": {
      "image/png": "[encoded data removed]",
      "text/latex": [
       "$$\\left \\{ \\dot{\\phi} : \\frac{\\omega_{1} \\cos{\\left (\\phi \\right )}}{\\tan{\\left (\\theta \\right )}} - \\frac{\\omega_{2} \\sin{\\left (\\phi \\right )}}{\\tan{\\left (\\theta \\right )}} + \\omega_{3}, \\quad \\dot{\\psi} : \\frac{1}{\\sin{\\left (\\theta \\right )}} \\left(- \\omega_{1} \\cos{\\left (\\phi \\right )} + \\omega_{2} \\sin{\\left (\\phi \\right )}\\right), \\quad \\dot{\\theta} : \\omega_{1} \\sin{\\left (\\phi \\right )} + \\omega_{2} \\cos{\\left (\\phi \\right )}\\right \\}$$"
      ],
      "text/plain": [
       "⎧    ω₁⋅cos(φ)   ω₂⋅sin(φ)           -ω₁⋅cos(φ) + ω₂⋅sin(φ)                   \n",
       "⎨φ̇: ───────── - ───────── + ω₃, ψ̇: ──────────────────────, θ̇: ω₁⋅sin(φ) + ω\n",
       "⎩      tan(θ)      tan(θ)                    sin(θ)                           \n",
       "\n",
       "        ⎫\n",
       "₂⋅cos(φ)⎬\n",
       "        ⎭"
      ]
     },
     "execution_count": 8,
     "metadata": {},
     "output_type": "execute_result"
    }
   ],
   "source": [
    "solve(w - Matrix([w1,w2,w3]),([thd,psid,phd]))"
   ]
  }
 ],
 "metadata": {
  "kernelspec": {
   "display_name": "Python 2",
   "language": "python",
   "name": "python2"
  },
  "language_info": {
   "codemirror_mode": {
    "name": "ipython",
    "version": 2
   },
   "file_extension": ".py",
   "mimetype": "text/x-python",
   "name": "python",
   "nbconvert_exporter": "python",
   "pygments_lexer": "ipython2",
   "version": "2.7.12"
  }
 },
 "nbformat": 4,
 "nbformat_minor": 0
}
